{
  "cells": [
    {
      "cell_type": "code",
      "execution_count": null,
      "metadata": {
        "collapsed": true,
        "id": "jxG0lwnhsbHe"
      },
      "outputs": [],
      "source": [
        "!pip install pycaret"
      ]
    },
    {
      "cell_type": "markdown",
      "metadata": {
        "id": "1qDNI2Kir5Wq"
      },
      "source": [
        "Import all the required modules."
      ]
    },
    {
      "cell_type": "code",
      "execution_count": 32,
      "metadata": {
        "collapsed": true,
        "id": "ikmSMjS_rIkE"
      },
      "outputs": [],
      "source": [
        "from Data_modules import DataLoader, Visualizer, MissingValuesHandler, ModelTimeSeries, ModelMetrics\n",
        "from sklearn.model_selection import train_test_split\n",
        "from sklearn.preprocessing import OrdinalEncoder\n",
        "import pandas as pd\n",
        "import numpy as np\n",
        "import matplotlib.pyplot as plt\n",
        "import seaborn as sns\n",
        "import pycaret.anomaly as anomaly"
      ]
    },
    {
      "cell_type": "markdown",
      "metadata": {
        "id": "KFK2EQP3r-uR"
      },
      "source": [
        "Lets load data and initialize all modules."
      ]
    },
    {
      "cell_type": "code",
      "execution_count": 3,
      "metadata": {
        "id": "1F7_he29r_5T"
      },
      "outputs": [],
      "source": [
        "visual = Visualizer()\n",
        "values_handler = MissingValuesHandler()\n",
        "time_series = ModelTimeSeries()\n",
        "metrics = ModelMetrics()\n",
        "enc = OrdinalEncoder(dtype=int)"
      ]
    },
    {
      "cell_type": "code",
      "execution_count": 4,
      "metadata": {
        "colab": {
          "base_uri": "https://localhost:8080/"
        },
        "id": "r3X2OLNIsAT0",
        "outputId": "ff823e9d-1c48-4a94-93ab-6563a454b915"
      },
      "outputs": [
        {
          "name": "stdout",
          "output_type": "stream",
          "text": [
            "                 dates   symbol      open     close      high       low  \\\n",
            "0  2018-01-15 00:00:00  TEL-USD  0.004678  0.006031  0.007141  0.004678   \n",
            "1  2018-01-16 00:00:00  TEL-USD  0.006056  0.004935  0.006077  0.004112   \n",
            "2  2018-01-17 00:00:00  TEL-USD  0.004989  0.004539  0.005347  0.003257   \n",
            "3  2018-01-18 00:00:00  TEL-USD  0.004591  0.007200  0.008505  0.004443   \n",
            "4  2018-01-19 00:00:00  TEL-USD  0.007133  0.008325  0.008325  0.006071   \n",
            "\n",
            "       volume  adj_close  \n",
            "0    842193.0   0.006031  \n",
            "1    573317.0   0.004935  \n",
            "2    477139.0   0.004539  \n",
            "3  15296600.0   0.007200  \n",
            "4  15603100.0   0.008325  \n",
            "<class 'pandas.core.frame.DataFrame'>\n",
            "RangeIndex: 2176745 entries, 0 to 2176744\n",
            "Data columns (total 8 columns):\n",
            " #   Column     Dtype  \n",
            "---  ------     -----  \n",
            " 0   dates      object \n",
            " 1   symbol     object \n",
            " 2   open       float64\n",
            " 3   close      float64\n",
            " 4   high       float64\n",
            " 5   low        float64\n",
            " 6   volume     float64\n",
            " 7   adj_close  float64\n",
            "dtypes: float64(6), object(2)\n",
            "memory usage: 132.9+ MB\n",
            "None\n",
            "               open         close          high           low        volume  \\\n",
            "count  2.150791e+06  2.150791e+06  2.150791e+06  2.150791e+06  2.150791e+06   \n",
            "mean   3.583810e+02  3.587746e+02  3.844898e+02  3.494011e+02  2.305051e+08   \n",
            "std    4.285981e+03  4.291545e+03  1.606589e+04  4.180466e+03  7.780667e+10   \n",
            "min    0.000000e+00  0.000000e+00  0.000000e+00  0.000000e+00  0.000000e+00   \n",
            "25%    1.563600e-02  1.561600e-02  1.655250e-02  1.479800e-02  1.541210e+05   \n",
            "50%    1.516630e-01  1.514970e-01  1.602080e-01  1.440340e-01  1.070428e+06   \n",
            "75%    1.126696e+00  1.125677e+00  1.176574e+00  1.086906e+00  7.749666e+06   \n",
            "max    2.998433e+05  2.998433e+05  1.716332e+07  1.515297e+05  8.325207e+13   \n",
            "\n",
            "          adj_close  \n",
            "count  2.150791e+06  \n",
            "mean   3.587344e+02  \n",
            "std    4.291547e+03  \n",
            "min    0.000000e+00  \n",
            "25%    1.561600e-02  \n",
            "50%    1.514970e-01  \n",
            "75%    1.125664e+00  \n",
            "max    2.998433e+05  \n"
          ]
        }
      ],
      "source": [
        "df = DataLoader().load_data('Data/crypto_market_data_2018_2024.csv')\n",
        "\n",
        "\n",
        "print(df.head())\n",
        "print(df.info())\n",
        "print(df.describe())"
      ]
    },
    {
      "cell_type": "markdown",
      "metadata": {},
      "source": [
        "Table contain next columns:\n",
        "\n",
        "dates - entry date (YYYY-MM-DD HH:MM:SS)\n",
        "\n",
        "symbol - cryptocurrency being traded and currency of trade (CryptoCurrency-Currency)\n",
        "\n",
        "open - opening price at the beginning of trading (number)\n",
        "\n",
        "close - closing price at the end of trading (number)\n",
        "\n",
        "high - highest price durring trading (number)\n",
        "\n",
        "low - lowest price durring trading (number)\n",
        "\n",
        "volume - amount of currency traded during the day (number)\n",
        "\n",
        "adj_close - adjusted closing price (number)"
      ]
    },
    {
      "cell_type": "markdown",
      "metadata": {
        "id": "lhkrbX_z1jee"
      },
      "source": [
        "Check missing values in table."
      ]
    },
    {
      "cell_type": "code",
      "execution_count": 5,
      "metadata": {
        "colab": {
          "base_uri": "https://localhost:8080/"
        },
        "collapsed": true,
        "id": "gGyYpliat0kq",
        "outputId": "91d23e5c-7ec2-476c-f578-d7a2958f3615"
      },
      "outputs": [
        {
          "name": "stdout",
          "output_type": "stream",
          "text": [
            "           Total Count  Missing Values  Missing Percentage\n",
            "dates          2176745               0                0.00\n",
            "symbol         2176745               0                0.00\n",
            "open           2176745           25954                1.19\n",
            "close          2176745           25954                1.19\n",
            "high           2176745           25954                1.19\n",
            "low            2176745           25954                1.19\n",
            "volume         2176745           25954                1.19\n",
            "adj_close      2176745           25954                1.19\n"
          ]
        }
      ],
      "source": [
        "missing_values_statistics = values_handler.get_missing_values_statistics(df)"
      ]
    },
    {
      "cell_type": "markdown",
      "metadata": {},
      "source": [
        "For time series let's use only 'dates' and 'close' columns.\n",
        "For this experiment let's use only BTC currency.\n",
        "Let's rename columns for 'data' and 'value' for easier usage."
      ]
    },
    {
      "cell_type": "code",
      "execution_count": 6,
      "metadata": {
        "colab": {
          "base_uri": "https://localhost:8080/"
        },
        "id": "IyLaP4-UN1dQ",
        "outputId": "297d257b-6686-4a5f-f017-4a523f6cee89"
      },
      "outputs": [
        {
          "name": "stdout",
          "output_type": "stream",
          "text": [
            "       Total Count  Missing Values  Missing Percentage\n",
            "date          3696               0                 0.0\n",
            "value         3696               0                 0.0\n",
            "                    date         value\n",
            "0    2015-01-01 00:00:00    314.248993\n",
            "1    2015-01-02 00:00:00    315.032013\n",
            "2    2015-01-03 00:00:00    281.082001\n",
            "3    2015-01-04 00:00:00    264.195007\n",
            "4    2015-01-05 00:00:00    274.473999\n",
            "...                  ...           ...\n",
            "3691 2025-02-08 00:00:00  96482.453125\n",
            "3692 2025-02-09 00:00:00  96500.093750\n",
            "3693 2025-02-10 00:00:00  97437.554688\n",
            "3694 2025-02-11 00:00:00  95747.429688\n",
            "3695 2025-02-12 16:14:00  95331.765625\n",
            "\n",
            "[3696 rows x 2 columns]\n"
          ]
        }
      ],
      "source": [
        "\n",
        "df = df[df['symbol'] == 'BTC-USD']\n",
        "df = df[['dates', 'close']]\n",
        "df['dates'] = pd.to_datetime(df['dates'])\n",
        "df = df.sort_values(by='dates', ascending=True)\n",
        "df.rename({'dates': 'date', 'close': 'value'}, axis=1, inplace=True)\n",
        "df.reset_index(drop=True, inplace=True)\n",
        "\n",
        "missing_values_statistics = values_handler.get_missing_values_statistics(df)\n",
        "print(df)"
      ]
    },
    {
      "cell_type": "markdown",
      "metadata": {
        "id": "xZp3gbg3EkcT"
      },
      "source": [
        "Visualize table data."
      ]
    },
    {
      "cell_type": "code",
      "execution_count": 7,
      "metadata": {
        "colab": {
          "base_uri": "https://localhost:8080/",
          "height": 500
        },
        "id": "C71qWZtMEjcE",
        "outputId": "bed224b5-2ad9-4de8-842a-27b129bb14e1"
      },
      "outputs": [
        {
          "data": {
            "image/png": "[encoded data removed]",
            "text/plain": [
              "<Figure size 1000x500 with 1 Axes>"
            ]
          },
          "metadata": {},
          "output_type": "display_data"
        }
      ],
      "source": [
        "plt.figure(figsize=(10, 5))\n",
        "plt.plot(df[-500:]['date'], df[-500:]['value'])\n",
        "plt.xlabel('Date')\n",
        "plt.ylabel('Value')\n",
        "plt.title('BTC cost in USD')\n",
        "plt.show()"
      ]
    },
    {
      "cell_type": "markdown",
      "metadata": {},
      "source": [
        "For training purpose let's use last 500 entries and for testing purpose last 100 entries."
      ]
    },
    {
      "cell_type": "code",
      "execution_count": 8,
      "metadata": {
        "colab": {
          "base_uri": "https://localhost:8080/"
        },
        "id": "gEQWXP3bQfQN",
        "outputId": "9342a91d-5f49-470c-ebc9-5aa92b861c48"
      },
      "outputs": [
        {
          "name": "stdout",
          "output_type": "stream",
          "text": [
            "           date         value\n",
            "3096 2023-06-24  30548.695312\n",
            "3097 2023-06-25  30480.261719\n",
            "3098 2023-06-26  30271.130859\n",
            "3099 2023-06-27  30688.164062\n",
            "3100 2023-06-28  30086.246094\n",
            "...         ...           ...\n",
            "3591 2024-10-31  70215.187500\n",
            "3592 2024-11-01  69482.468750\n",
            "3593 2024-11-02  69289.273438\n",
            "3594 2024-11-03  68741.117188\n",
            "3595 2024-11-04  67811.507812\n",
            "\n",
            "[500 rows x 2 columns]\n",
            "                    date         value\n",
            "3596 2024-11-05 00:00:00  69359.562500\n",
            "3597 2024-11-06 00:00:00  75639.078125\n",
            "3598 2024-11-07 00:00:00  75904.859375\n",
            "3599 2024-11-08 00:00:00  76545.476562\n",
            "3600 2024-11-09 00:00:00  76778.867188\n",
            "...                  ...           ...\n",
            "3691 2025-02-08 00:00:00  96482.453125\n",
            "3692 2025-02-09 00:00:00  96500.093750\n",
            "3693 2025-02-10 00:00:00  97437.554688\n",
            "3694 2025-02-11 00:00:00  95747.429688\n",
            "3695 2025-02-12 16:14:00  95331.765625\n",
            "\n",
            "[100 rows x 2 columns]\n"
          ]
        }
      ],
      "source": [
        "X_train = df[-600:-100]\n",
        "X_test = df[-100:]\n",
        "print(X_train)\n",
        "print(X_test)"
      ]
    },
    {
      "cell_type": "markdown",
      "metadata": {},
      "source": [
        "Train models using Pycaret and Auto ARIMA."
      ]
    },
    {
      "cell_type": "code",
      "execution_count": 9,
      "metadata": {
        "colab": {
          "base_uri": "https://localhost:8080/",
          "height": 1000,
          "referenced_widgets": [
            "6e21450ba4ab4c28a7eb1a7eee688372",
            "5ee70e5d34f44223af725ef89ad38453",
            "98e9ca023c5348fe93b3b20e6c6ecd81",
            "bd938c00421246d28ed6d36b1f4f47b4",
            "82a5cb011a7d47fba52013fac2ffe1e2",
            "437ee949893142719078b1f31291e61c",
            "882093221482431f978ea5006646a239",
            "7afa6980e504410f897ab723a83711a7",
            "e7a79ef88e6940a7a55ec78ae5d9b7af",
            "3196e6bfaae441c7a4c5a9a6d76ca7b9",
            "efee454c15864d49b8acb7b821fa2c31",
            "556ca344338e4e24b27efe3a3448bc6a",
            "6cebb077fef54d89bf694f607fd2066f",
            "22fb403606b54585bf0f292d929a7760",
            "45d336485e1e450db78c5f063a9c5ab4",
            "79c766393b214680b532af4ca44a1c90",
            "347a5f462e1949b78880d060d6ced64c",
            "57ac7a0588f74e5e9378f16c6978836c",
            "73f7a5a09c794980b690bedc98751520",
            "a94b9038be714cb88adb8f4a073e69ce",
            "8cc8ac08cddd4bcdbdae1cd8af33320f",
            "3d23ccc7aa8a42c89fd2fddee016c739"
          ]
        },
        "id": "MqgRBhsJPmyP",
        "outputId": "3303e224-f5b7-4c97-8990-35af89bb79e0"
      },
      "outputs": [
        {
          "data": {
            "text/html": [
              "<style type=\"text/css\">\n",
              "#T_f30b5_row25_col1 {\n",
              "  background-color: lightgreen;\n",
              "}\n",
              "</style>\n",
              "<table id=\"T_f30b5\" class=\"dataframe\">\n",
              "  <thead>\n",
              "    <tr>\n",
              "      <th class=\"blank level0\" >&nbsp;</th>\n",
              "      <th id=\"T_f30b5_level0_col0\" class=\"col_heading level0 col0\" >Description</th>\n",
              "      <th id=\"T_f30b5_level0_col1\" class=\"col_heading level0 col1\" >Value</th>\n",
              "    </tr>\n",
              "  </thead>\n",
              "  <tbody>\n",
              "    <tr>\n",
              "      <th id=\"T_f30b5_level0_row0\" class=\"row_heading level0 row0\" >0</th>\n",
              "      <td id=\"T_f30b5_row0_col0\" class=\"data row0 col0\" >session_id</td>\n",
              "      <td id=\"T_f30b5_row0_col1\" class=\"data row0 col1\" >8391</td>\n",
              "    </tr>\n",
              "    <tr>\n",
              "      <th id=\"T_f30b5_level0_row1\" class=\"row_heading level0 row1\" >1</th>\n",
              "      <td id=\"T_f30b5_row1_col0\" class=\"data row1 col0\" >Target</td>\n",
              "      <td id=\"T_f30b5_row1_col1\" class=\"data row1 col1\" >value</td>\n",
              "    </tr>\n",
              "    <tr>\n",
              "      <th id=\"T_f30b5_level0_row2\" class=\"row_heading level0 row2\" >2</th>\n",
              "      <td id=\"T_f30b5_row2_col0\" class=\"data row2 col0\" >Approach</td>\n",
              "      <td id=\"T_f30b5_row2_col1\" class=\"data row2 col1\" >Univariate</td>\n",
              "    </tr>\n",
              "    <tr>\n",
              "      <th id=\"T_f30b5_level0_row3\" class=\"row_heading level0 row3\" >3</th>\n",
              "      <td id=\"T_f30b5_row3_col0\" class=\"data row3 col0\" >Exogenous Variables</td>\n",
              "      <td id=\"T_f30b5_row3_col1\" class=\"data row3 col1\" >Not Present</td>\n",
              "    </tr>\n",
              "    <tr>\n",
              "      <th id=\"T_f30b5_level0_row4\" class=\"row_heading level0 row4\" >4</th>\n",
              "      <td id=\"T_f30b5_row4_col0\" class=\"data row4 col0\" >Original data shape</td>\n",
              "      <td id=\"T_f30b5_row4_col1\" class=\"data row4 col1\" >(500, 1)</td>\n",
              "    </tr>\n",
              "    <tr>\n",
              "      <th id=\"T_f30b5_level0_row5\" class=\"row_heading level0 row5\" >5</th>\n",
              "      <td id=\"T_f30b5_row5_col0\" class=\"data row5 col0\" >Transformed data shape</td>\n",
              "      <td id=\"T_f30b5_row5_col1\" class=\"data row5 col1\" >(500, 1)</td>\n",
              "    </tr>\n",
              "    <tr>\n",
              "      <th id=\"T_f30b5_level0_row6\" class=\"row_heading level0 row6\" >6</th>\n",
              "      <td id=\"T_f30b5_row6_col0\" class=\"data row6 col0\" >Transformed train set shape</td>\n",
              "      <td id=\"T_f30b5_row6_col1\" class=\"data row6 col1\" >(499, 1)</td>\n",
              "    </tr>\n",
              "    <tr>\n",
              "      <th id=\"T_f30b5_level0_row7\" class=\"row_heading level0 row7\" >7</th>\n",
              "      <td id=\"T_f30b5_row7_col0\" class=\"data row7 col0\" >Transformed test set shape</td>\n",
              "      <td id=\"T_f30b5_row7_col1\" class=\"data row7 col1\" >(1, 1)</td>\n",
              "    </tr>\n",
              "    <tr>\n",
              "      <th id=\"T_f30b5_level0_row8\" class=\"row_heading level0 row8\" >8</th>\n",
              "      <td id=\"T_f30b5_row8_col0\" class=\"data row8 col0\" >Rows with missing values</td>\n",
              "      <td id=\"T_f30b5_row8_col1\" class=\"data row8 col1\" >0.0%</td>\n",
              "    </tr>\n",
              "    <tr>\n",
              "      <th id=\"T_f30b5_level0_row9\" class=\"row_heading level0 row9\" >9</th>\n",
              "      <td id=\"T_f30b5_row9_col0\" class=\"data row9 col0\" >Fold Generator</td>\n",
              "      <td id=\"T_f30b5_row9_col1\" class=\"data row9 col1\" >ExpandingWindowSplitter</td>\n",
              "    </tr>\n",
              "    <tr>\n",
              "      <th id=\"T_f30b5_level0_row10\" class=\"row_heading level0 row10\" >10</th>\n",
              "      <td id=\"T_f30b5_row10_col0\" class=\"data row10 col0\" >Fold Number</td>\n",
              "      <td id=\"T_f30b5_row10_col1\" class=\"data row10 col1\" >3</td>\n",
              "    </tr>\n",
              "    <tr>\n",
              "      <th id=\"T_f30b5_level0_row11\" class=\"row_heading level0 row11\" >11</th>\n",
              "      <td id=\"T_f30b5_row11_col0\" class=\"data row11 col0\" >Enforce Prediction Interval</td>\n",
              "      <td id=\"T_f30b5_row11_col1\" class=\"data row11 col1\" >False</td>\n",
              "    </tr>\n",
              "    <tr>\n",
              "      <th id=\"T_f30b5_level0_row12\" class=\"row_heading level0 row12\" >12</th>\n",
              "      <td id=\"T_f30b5_row12_col0\" class=\"data row12 col0\" >Splits used for hyperparameters</td>\n",
              "      <td id=\"T_f30b5_row12_col1\" class=\"data row12 col1\" >all</td>\n",
              "    </tr>\n",
              "    <tr>\n",
              "      <th id=\"T_f30b5_level0_row13\" class=\"row_heading level0 row13\" >13</th>\n",
              "      <td id=\"T_f30b5_row13_col0\" class=\"data row13 col0\" >User Defined Seasonal Period(s)</td>\n",
              "      <td id=\"T_f30b5_row13_col1\" class=\"data row13 col1\" >None</td>\n",
              "    </tr>\n",
              "    <tr>\n",
              "      <th id=\"T_f30b5_level0_row14\" class=\"row_heading level0 row14\" >14</th>\n",
              "      <td id=\"T_f30b5_row14_col0\" class=\"data row14 col0\" >Ignore Seasonality Test</td>\n",
              "      <td id=\"T_f30b5_row14_col1\" class=\"data row14 col1\" >False</td>\n",
              "    </tr>\n",
              "    <tr>\n",
              "      <th id=\"T_f30b5_level0_row15\" class=\"row_heading level0 row15\" >15</th>\n",
              "      <td id=\"T_f30b5_row15_col0\" class=\"data row15 col0\" >Seasonality Detection Algo</td>\n",
              "      <td id=\"T_f30b5_row15_col1\" class=\"data row15 col1\" >auto</td>\n",
              "    </tr>\n",
              "    <tr>\n",
              "      <th id=\"T_f30b5_level0_row16\" class=\"row_heading level0 row16\" >16</th>\n",
              "      <td id=\"T_f30b5_row16_col0\" class=\"data row16 col0\" >Max Period to Consider</td>\n",
              "      <td id=\"T_f30b5_row16_col1\" class=\"data row16 col1\" >60</td>\n",
              "    </tr>\n",
              "    <tr>\n",
              "      <th id=\"T_f30b5_level0_row17\" class=\"row_heading level0 row17\" >17</th>\n",
              "      <td id=\"T_f30b5_row17_col0\" class=\"data row17 col0\" >Seasonal Period(s) Tested</td>\n",
              "      <td id=\"T_f30b5_row17_col1\" class=\"data row17 col1\" >[25, 56]</td>\n",
              "    </tr>\n",
              "    <tr>\n",
              "      <th id=\"T_f30b5_level0_row18\" class=\"row_heading level0 row18\" >18</th>\n",
              "      <td id=\"T_f30b5_row18_col0\" class=\"data row18 col0\" >Significant Seasonal Period(s)</td>\n",
              "      <td id=\"T_f30b5_row18_col1\" class=\"data row18 col1\" >[25, 56]</td>\n",
              "    </tr>\n",
              "    <tr>\n",
              "      <th id=\"T_f30b5_level0_row19\" class=\"row_heading level0 row19\" >19</th>\n",
              "      <td id=\"T_f30b5_row19_col0\" class=\"data row19 col0\" >Significant Seasonal Period(s) without Harmonics</td>\n",
              "      <td id=\"T_f30b5_row19_col1\" class=\"data row19 col1\" >[25, 56]</td>\n",
              "    </tr>\n",
              "    <tr>\n",
              "      <th id=\"T_f30b5_level0_row20\" class=\"row_heading level0 row20\" >20</th>\n",
              "      <td id=\"T_f30b5_row20_col0\" class=\"data row20 col0\" >Remove Harmonics</td>\n",
              "      <td id=\"T_f30b5_row20_col1\" class=\"data row20 col1\" >False</td>\n",
              "    </tr>\n",
              "    <tr>\n",
              "      <th id=\"T_f30b5_level0_row21\" class=\"row_heading level0 row21\" >21</th>\n",
              "      <td id=\"T_f30b5_row21_col0\" class=\"data row21 col0\" >Harmonics Order Method</td>\n",
              "      <td id=\"T_f30b5_row21_col1\" class=\"data row21 col1\" >harmonic_max</td>\n",
              "    </tr>\n",
              "    <tr>\n",
              "      <th id=\"T_f30b5_level0_row22\" class=\"row_heading level0 row22\" >22</th>\n",
              "      <td id=\"T_f30b5_row22_col0\" class=\"data row22 col0\" >Num Seasonalities to Use</td>\n",
              "      <td id=\"T_f30b5_row22_col1\" class=\"data row22 col1\" >1</td>\n",
              "    </tr>\n",
              "    <tr>\n",
              "      <th id=\"T_f30b5_level0_row23\" class=\"row_heading level0 row23\" >23</th>\n",
              "      <td id=\"T_f30b5_row23_col0\" class=\"data row23 col0\" >All Seasonalities to Use</td>\n",
              "      <td id=\"T_f30b5_row23_col1\" class=\"data row23 col1\" >[25]</td>\n",
              "    </tr>\n",
              "    <tr>\n",
              "      <th id=\"T_f30b5_level0_row24\" class=\"row_heading level0 row24\" >24</th>\n",
              "      <td id=\"T_f30b5_row24_col0\" class=\"data row24 col0\" >Primary Seasonality</td>\n",
              "      <td id=\"T_f30b5_row24_col1\" class=\"data row24 col1\" >25</td>\n",
              "    </tr>\n",
              "    <tr>\n",
              "      <th id=\"T_f30b5_level0_row25\" class=\"row_heading level0 row25\" >25</th>\n",
              "      <td id=\"T_f30b5_row25_col0\" class=\"data row25 col0\" >Seasonality Present</td>\n",
              "      <td id=\"T_f30b5_row25_col1\" class=\"data row25 col1\" >True</td>\n",
              "    </tr>\n",
              "    <tr>\n",
              "      <th id=\"T_f30b5_level0_row26\" class=\"row_heading level0 row26\" >26</th>\n",
              "      <td id=\"T_f30b5_row26_col0\" class=\"data row26 col0\" >Seasonality Type</td>\n",
              "      <td id=\"T_f30b5_row26_col1\" class=\"data row26 col1\" >mul</td>\n",
              "    </tr>\n",
              "    <tr>\n",
              "      <th id=\"T_f30b5_level0_row27\" class=\"row_heading level0 row27\" >27</th>\n",
              "      <td id=\"T_f30b5_row27_col0\" class=\"data row27 col0\" >Target Strictly Positive</td>\n",
              "      <td id=\"T_f30b5_row27_col1\" class=\"data row27 col1\" >True</td>\n",
              "    </tr>\n",
              "    <tr>\n",
              "      <th id=\"T_f30b5_level0_row28\" class=\"row_heading level0 row28\" >28</th>\n",
              "      <td id=\"T_f30b5_row28_col0\" class=\"data row28 col0\" >Target White Noise</td>\n",
              "      <td id=\"T_f30b5_row28_col1\" class=\"data row28 col1\" >No</td>\n",
              "    </tr>\n",
              "    <tr>\n",
              "      <th id=\"T_f30b5_level0_row29\" class=\"row_heading level0 row29\" >29</th>\n",
              "      <td id=\"T_f30b5_row29_col0\" class=\"data row29 col0\" >Recommended d</td>\n",
              "      <td id=\"T_f30b5_row29_col1\" class=\"data row29 col1\" >1</td>\n",
              "    </tr>\n",
              "    <tr>\n",
              "      <th id=\"T_f30b5_level0_row30\" class=\"row_heading level0 row30\" >30</th>\n",
              "      <td id=\"T_f30b5_row30_col0\" class=\"data row30 col0\" >Recommended Seasonal D</td>\n",
              "      <td id=\"T_f30b5_row30_col1\" class=\"data row30 col1\" >0</td>\n",
              "    </tr>\n",
              "    <tr>\n",
              "      <th id=\"T_f30b5_level0_row31\" class=\"row_heading level0 row31\" >31</th>\n",
              "      <td id=\"T_f30b5_row31_col0\" class=\"data row31 col0\" >Preprocess</td>\n",
              "      <td id=\"T_f30b5_row31_col1\" class=\"data row31 col1\" >False</td>\n",
              "    </tr>\n",
              "    <tr>\n",
              "      <th id=\"T_f30b5_level0_row32\" class=\"row_heading level0 row32\" >32</th>\n",
              "      <td id=\"T_f30b5_row32_col0\" class=\"data row32 col0\" >CPU Jobs</td>\n",
              "      <td id=\"T_f30b5_row32_col1\" class=\"data row32 col1\" >-1</td>\n",
              "    </tr>\n",
              "    <tr>\n",
              "      <th id=\"T_f30b5_level0_row33\" class=\"row_heading level0 row33\" >33</th>\n",
              "      <td id=\"T_f30b5_row33_col0\" class=\"data row33 col0\" >Use GPU</td>\n",
              "      <td id=\"T_f30b5_row33_col1\" class=\"data row33 col1\" >False</td>\n",
              "    </tr>\n",
              "    <tr>\n",
              "      <th id=\"T_f30b5_level0_row34\" class=\"row_heading level0 row34\" >34</th>\n",
              "      <td id=\"T_f30b5_row34_col0\" class=\"data row34 col0\" >Log Experiment</td>\n",
              "      <td id=\"T_f30b5_row34_col1\" class=\"data row34 col1\" >False</td>\n",
              "    </tr>\n",
              "    <tr>\n",
              "      <th id=\"T_f30b5_level0_row35\" class=\"row_heading level0 row35\" >35</th>\n",
              "      <td id=\"T_f30b5_row35_col0\" class=\"data row35 col0\" >Experiment Name</td>\n",
              "      <td id=\"T_f30b5_row35_col1\" class=\"data row35 col1\" >ts-default-name</td>\n",
              "    </tr>\n",
              "    <tr>\n",
              "      <th id=\"T_f30b5_level0_row36\" class=\"row_heading level0 row36\" >36</th>\n",
              "      <td id=\"T_f30b5_row36_col0\" class=\"data row36 col0\" >USI</td>\n",
              "      <td id=\"T_f30b5_row36_col1\" class=\"data row36 col1\" >12a2</td>\n",
              "    </tr>\n",
              "  </tbody>\n",
              "</table>\n"
            ],
            "text/plain": [
              "<pandas.io.formats.style.Styler at 0x7b7eaf8ffe90>"
            ]
          },
          "metadata": {},
          "output_type": "display_data"
        },
        {
          "data": {
            "text/html": [],
            "text/plain": [
              "<IPython.core.display.HTML object>"
            ]
          },
          "metadata": {},
          "output_type": "display_data"
        },
        {
          "data": {
            "text/html": [
              "<style type=\"text/css\">\n",
              "#T_0ca38 th {\n",
              "  text-align: left;\n",
              "}\n",
              "#T_0ca38_row0_col0, #T_0ca38_row1_col0, #T_0ca38_row1_col1, #T_0ca38_row1_col2, #T_0ca38_row1_col3, #T_0ca38_row1_col4, #T_0ca38_row1_col5, #T_0ca38_row1_col6, #T_0ca38_row2_col0, #T_0ca38_row2_col1, #T_0ca38_row2_col2, #T_0ca38_row2_col3, #T_0ca38_row2_col4, #T_0ca38_row2_col5, #T_0ca38_row2_col6, #T_0ca38_row3_col0, #T_0ca38_row3_col1, #T_0ca38_row3_col2, #T_0ca38_row3_col3, #T_0ca38_row3_col4, #T_0ca38_row3_col5, #T_0ca38_row3_col6, #T_0ca38_row4_col0, #T_0ca38_row4_col1, #T_0ca38_row4_col2, #T_0ca38_row4_col3, #T_0ca38_row4_col4, #T_0ca38_row4_col5, #T_0ca38_row4_col6, #T_0ca38_row5_col0, #T_0ca38_row5_col1, #T_0ca38_row5_col2, #T_0ca38_row5_col3, #T_0ca38_row5_col4, #T_0ca38_row5_col5, #T_0ca38_row5_col6, #T_0ca38_row6_col0, #T_0ca38_row6_col1, #T_0ca38_row6_col2, #T_0ca38_row6_col3, #T_0ca38_row6_col4, #T_0ca38_row6_col5, #T_0ca38_row6_col6, #T_0ca38_row7_col0, #T_0ca38_row7_col1, #T_0ca38_row7_col2, #T_0ca38_row7_col3, #T_0ca38_row7_col4, #T_0ca38_row7_col5, #T_0ca38_row7_col6, #T_0ca38_row8_col0, #T_0ca38_row8_col1, #T_0ca38_row8_col2, #T_0ca38_row8_col3, #T_0ca38_row8_col4, #T_0ca38_row8_col5, #T_0ca38_row8_col6, #T_0ca38_row9_col0, #T_0ca38_row9_col1, #T_0ca38_row9_col2, #T_0ca38_row9_col3, #T_0ca38_row9_col4, #T_0ca38_row9_col5, #T_0ca38_row9_col6, #T_0ca38_row10_col0, #T_0ca38_row10_col1, #T_0ca38_row10_col2, #T_0ca38_row10_col3, #T_0ca38_row10_col4, #T_0ca38_row10_col5, #T_0ca38_row10_col6, #T_0ca38_row11_col0, #T_0ca38_row11_col1, #T_0ca38_row11_col2, #T_0ca38_row11_col3, #T_0ca38_row11_col4, #T_0ca38_row11_col5, #T_0ca38_row11_col6, #T_0ca38_row12_col0, #T_0ca38_row12_col1, #T_0ca38_row12_col2, #T_0ca38_row12_col3, #T_0ca38_row12_col4, #T_0ca38_row12_col5, #T_0ca38_row12_col6, #T_0ca38_row13_col0, #T_0ca38_row13_col1, #T_0ca38_row13_col2, #T_0ca38_row13_col3, #T_0ca38_row13_col4, #T_0ca38_row13_col5, #T_0ca38_row13_col6, #T_0ca38_row14_col0, #T_0ca38_row14_col1, #T_0ca38_row14_col2, #T_0ca38_row14_col3, #T_0ca38_row14_col4, #T_0ca38_row14_col5, #T_0ca38_row14_col6, #T_0ca38_row15_col0, #T_0ca38_row15_col1, #T_0ca38_row15_col2, #T_0ca38_row15_col3, #T_0ca38_row15_col4, #T_0ca38_row15_col5, #T_0ca38_row15_col6, #T_0ca38_row16_col0, #T_0ca38_row16_col1, #T_0ca38_row16_col2, #T_0ca38_row16_col3, #T_0ca38_row16_col4, #T_0ca38_row16_col5, #T_0ca38_row16_col6, #T_0ca38_row17_col0, #T_0ca38_row17_col1, #T_0ca38_row17_col2, #T_0ca38_row17_col3, #T_0ca38_row17_col4, #T_0ca38_row17_col5, #T_0ca38_row17_col6, #T_0ca38_row18_col0, #T_0ca38_row18_col1, #T_0ca38_row18_col2, #T_0ca38_row18_col3, #T_0ca38_row18_col4, #T_0ca38_row18_col5, #T_0ca38_row18_col6, #T_0ca38_row19_col0, #T_0ca38_row19_col1, #T_0ca38_row19_col2, #T_0ca38_row19_col3, #T_0ca38_row19_col4, #T_0ca38_row19_col5, #T_0ca38_row19_col6, #T_0ca38_row20_col0, #T_0ca38_row20_col1, #T_0ca38_row20_col2, #T_0ca38_row20_col3, #T_0ca38_row20_col4, #T_0ca38_row20_col5, #T_0ca38_row20_col6, #T_0ca38_row21_col0, #T_0ca38_row21_col1, #T_0ca38_row21_col2, #T_0ca38_row21_col3, #T_0ca38_row21_col4, #T_0ca38_row21_col5, #T_0ca38_row21_col6, #T_0ca38_row22_col0, #T_0ca38_row22_col1, #T_0ca38_row22_col2, #T_0ca38_row22_col3, #T_0ca38_row22_col4, #T_0ca38_row22_col5, #T_0ca38_row22_col6, #T_0ca38_row23_col0, #T_0ca38_row23_col1, #T_0ca38_row23_col2, #T_0ca38_row23_col3, #T_0ca38_row23_col4, #T_0ca38_row23_col5, #T_0ca38_row23_col6, #T_0ca38_row24_col0, #T_0ca38_row24_col1, #T_0ca38_row24_col2, #T_0ca38_row24_col3, #T_0ca38_row24_col4, #T_0ca38_row24_col5, #T_0ca38_row24_col6, #T_0ca38_row25_col0, #T_0ca38_row25_col1, #T_0ca38_row25_col2, #T_0ca38_row25_col3, #T_0ca38_row25_col4, #T_0ca38_row25_col5, #T_0ca38_row25_col6, #T_0ca38_row26_col0, #T_0ca38_row26_col1, #T_0ca38_row26_col2, #T_0ca38_row26_col3, #T_0ca38_row26_col4, #T_0ca38_row26_col5, #T_0ca38_row26_col6 {\n",
              "  text-align: left;\n",
              "}\n",
              "#T_0ca38_row0_col1, #T_0ca38_row0_col2, #T_0ca38_row0_col3, #T_0ca38_row0_col4, #T_0ca38_row0_col5, #T_0ca38_row0_col6 {\n",
              "  text-align: left;\n",
              "  background-color: yellow;\n",
              "}\n",
              "#T_0ca38_row0_col7, #T_0ca38_row1_col7, #T_0ca38_row2_col7, #T_0ca38_row3_col7, #T_0ca38_row4_col7, #T_0ca38_row5_col7, #T_0ca38_row6_col7, #T_0ca38_row7_col7, #T_0ca38_row8_col7, #T_0ca38_row9_col7, #T_0ca38_row10_col7, #T_0ca38_row11_col7, #T_0ca38_row12_col7, #T_0ca38_row13_col7, #T_0ca38_row14_col7, #T_0ca38_row15_col7, #T_0ca38_row16_col7, #T_0ca38_row17_col7, #T_0ca38_row18_col7, #T_0ca38_row19_col7, #T_0ca38_row21_col7, #T_0ca38_row22_col7, #T_0ca38_row23_col7, #T_0ca38_row24_col7, #T_0ca38_row25_col7, #T_0ca38_row26_col7 {\n",
              "  text-align: left;\n",
              "  background-color: lightgrey;\n",
              "}\n",
              "#T_0ca38_row20_col7 {\n",
              "  text-align: left;\n",
              "  background-color: yellow;\n",
              "  background-color: lightgrey;\n",
              "}\n",
              "</style>\n",
              "<table id=\"T_0ca38\" class=\"dataframe\">\n",
              "  <thead>\n",
              "    <tr>\n",
              "      <th class=\"blank level0\" >&nbsp;</th>\n",
              "      <th id=\"T_0ca38_level0_col0\" class=\"col_heading level0 col0\" >Model</th>\n",
              "      <th id=\"T_0ca38_level0_col1\" class=\"col_heading level0 col1\" >MASE</th>\n",
              "      <th id=\"T_0ca38_level0_col2\" class=\"col_heading level0 col2\" >RMSSE</th>\n",
              "      <th id=\"T_0ca38_level0_col3\" class=\"col_heading level0 col3\" >MAE</th>\n",
              "      <th id=\"T_0ca38_level0_col4\" class=\"col_heading level0 col4\" >RMSE</th>\n",
              "      <th id=\"T_0ca38_level0_col5\" class=\"col_heading level0 col5\" >MAPE</th>\n",
              "      <th id=\"T_0ca38_level0_col6\" class=\"col_heading level0 col6\" >SMAPE</th>\n",
              "      <th id=\"T_0ca38_level0_col7\" class=\"col_heading level0 col7\" >TT (Sec)</th>\n",
              "    </tr>\n",
              "  </thead>\n",
              "  <tbody>\n",
              "    <tr>\n",
              "      <th id=\"T_0ca38_level0_row0\" class=\"row_heading level0 row0\" >lightgbm_cds_dt</th>\n",
              "      <td id=\"T_0ca38_row0_col0\" class=\"data row0 col0\" >Light Gradient Boosting w/ Cond. Deseasonalize & Detrending</td>\n",
              "      <td id=\"T_0ca38_row0_col1\" class=\"data row0 col1\" >0.0885</td>\n",
              "      <td id=\"T_0ca38_row0_col2\" class=\"data row0 col2\" >0.0668</td>\n",
              "      <td id=\"T_0ca38_row0_col3\" class=\"data row0 col3\" >430.0525</td>\n",
              "      <td id=\"T_0ca38_row0_col4\" class=\"data row0 col4\" >430.0525</td>\n",
              "      <td id=\"T_0ca38_row0_col5\" class=\"data row0 col5\" >0.0062</td>\n",
              "      <td id=\"T_0ca38_row0_col6\" class=\"data row0 col6\" >0.0062</td>\n",
              "      <td id=\"T_0ca38_row0_col7\" class=\"data row0 col7\" >0.2833</td>\n",
              "    </tr>\n",
              "    <tr>\n",
              "      <th id=\"T_0ca38_level0_row1\" class=\"row_heading level0 row1\" >auto_arima</th>\n",
              "      <td id=\"T_0ca38_row1_col0\" class=\"data row1 col0\" >Auto ARIMA</td>\n",
              "      <td id=\"T_0ca38_row1_col1\" class=\"data row1 col1\" >0.0991</td>\n",
              "      <td id=\"T_0ca38_row1_col2\" class=\"data row1 col2\" >0.0748</td>\n",
              "      <td id=\"T_0ca38_row1_col3\" class=\"data row1 col3\" >481.2047</td>\n",
              "      <td id=\"T_0ca38_row1_col4\" class=\"data row1 col4\" >481.2047</td>\n",
              "      <td id=\"T_0ca38_row1_col5\" class=\"data row1 col5\" >0.0070</td>\n",
              "      <td id=\"T_0ca38_row1_col6\" class=\"data row1 col6\" >0.0069</td>\n",
              "      <td id=\"T_0ca38_row1_col7\" class=\"data row1 col7\" >12.3367</td>\n",
              "    </tr>\n",
              "    <tr>\n",
              "      <th id=\"T_0ca38_level0_row2\" class=\"row_heading level0 row2\" >naive</th>\n",
              "      <td id=\"T_0ca38_row2_col0\" class=\"data row2 col0\" >Naive Forecaster</td>\n",
              "      <td id=\"T_0ca38_row2_col1\" class=\"data row2 col1\" >0.1011</td>\n",
              "      <td id=\"T_0ca38_row2_col2\" class=\"data row2 col2\" >0.0763</td>\n",
              "      <td id=\"T_0ca38_row2_col3\" class=\"data row2 col3\" >491.3568</td>\n",
              "      <td id=\"T_0ca38_row2_col4\" class=\"data row2 col4\" >491.3568</td>\n",
              "      <td id=\"T_0ca38_row2_col5\" class=\"data row2 col5\" >0.0071</td>\n",
              "      <td id=\"T_0ca38_row2_col6\" class=\"data row2 col6\" >0.0071</td>\n",
              "      <td id=\"T_0ca38_row2_col7\" class=\"data row2 col7\" >2.3367</td>\n",
              "    </tr>\n",
              "    <tr>\n",
              "      <th id=\"T_0ca38_level0_row3\" class=\"row_heading level0 row3\" >gbr_cds_dt</th>\n",
              "      <td id=\"T_0ca38_row3_col0\" class=\"data row3 col0\" >Gradient Boosting w/ Cond. Deseasonalize & Detrending</td>\n",
              "      <td id=\"T_0ca38_row3_col1\" class=\"data row3 col1\" >0.1102</td>\n",
              "      <td id=\"T_0ca38_row3_col2\" class=\"data row3 col2\" >0.0831</td>\n",
              "      <td id=\"T_0ca38_row3_col3\" class=\"data row3 col3\" >535.0800</td>\n",
              "      <td id=\"T_0ca38_row3_col4\" class=\"data row3 col4\" >535.0800</td>\n",
              "      <td id=\"T_0ca38_row3_col5\" class=\"data row3 col5\" >0.0077</td>\n",
              "      <td id=\"T_0ca38_row3_col6\" class=\"data row3 col6\" >0.0078</td>\n",
              "      <td id=\"T_0ca38_row3_col7\" class=\"data row3 col7\" >0.3133</td>\n",
              "    </tr>\n",
              "    <tr>\n",
              "      <th id=\"T_0ca38_level0_row4\" class=\"row_heading level0 row4\" >en_cds_dt</th>\n",
              "      <td id=\"T_0ca38_row4_col0\" class=\"data row4 col0\" >Elastic Net w/ Cond. Deseasonalize & Detrending</td>\n",
              "      <td id=\"T_0ca38_row4_col1\" class=\"data row4 col1\" >0.1312</td>\n",
              "      <td id=\"T_0ca38_row4_col2\" class=\"data row4 col2\" >0.0991</td>\n",
              "      <td id=\"T_0ca38_row4_col3\" class=\"data row4 col3\" >637.6827</td>\n",
              "      <td id=\"T_0ca38_row4_col4\" class=\"data row4 col4\" >637.6827</td>\n",
              "      <td id=\"T_0ca38_row4_col5\" class=\"data row4 col5\" >0.0092</td>\n",
              "      <td id=\"T_0ca38_row4_col6\" class=\"data row4 col6\" >0.0092</td>\n",
              "      <td id=\"T_0ca38_row4_col7\" class=\"data row4 col7\" >0.0933</td>\n",
              "    </tr>\n",
              "    <tr>\n",
              "      <th id=\"T_0ca38_level0_row5\" class=\"row_heading level0 row5\" >ridge_cds_dt</th>\n",
              "      <td id=\"T_0ca38_row5_col0\" class=\"data row5 col0\" >Ridge w/ Cond. Deseasonalize & Detrending</td>\n",
              "      <td id=\"T_0ca38_row5_col1\" class=\"data row5 col1\" >0.1312</td>\n",
              "      <td id=\"T_0ca38_row5_col2\" class=\"data row5 col2\" >0.0991</td>\n",
              "      <td id=\"T_0ca38_row5_col3\" class=\"data row5 col3\" >637.6822</td>\n",
              "      <td id=\"T_0ca38_row5_col4\" class=\"data row5 col4\" >637.6822</td>\n",
              "      <td id=\"T_0ca38_row5_col5\" class=\"data row5 col5\" >0.0092</td>\n",
              "      <td id=\"T_0ca38_row5_col6\" class=\"data row5 col6\" >0.0092</td>\n",
              "      <td id=\"T_0ca38_row5_col7\" class=\"data row5 col7\" >0.0833</td>\n",
              "    </tr>\n",
              "    <tr>\n",
              "      <th id=\"T_0ca38_level0_row6\" class=\"row_heading level0 row6\" >lasso_cds_dt</th>\n",
              "      <td id=\"T_0ca38_row6_col0\" class=\"data row6 col0\" >Lasso w/ Cond. Deseasonalize & Detrending</td>\n",
              "      <td id=\"T_0ca38_row6_col1\" class=\"data row6 col1\" >0.1312</td>\n",
              "      <td id=\"T_0ca38_row6_col2\" class=\"data row6 col2\" >0.0991</td>\n",
              "      <td id=\"T_0ca38_row6_col3\" class=\"data row6 col3\" >637.6834</td>\n",
              "      <td id=\"T_0ca38_row6_col4\" class=\"data row6 col4\" >637.6834</td>\n",
              "      <td id=\"T_0ca38_row6_col5\" class=\"data row6 col5\" >0.0092</td>\n",
              "      <td id=\"T_0ca38_row6_col6\" class=\"data row6 col6\" >0.0092</td>\n",
              "      <td id=\"T_0ca38_row6_col7\" class=\"data row6 col7\" >0.0933</td>\n",
              "    </tr>\n",
              "    <tr>\n",
              "      <th id=\"T_0ca38_level0_row7\" class=\"row_heading level0 row7\" >llar_cds_dt</th>\n",
              "      <td id=\"T_0ca38_row7_col0\" class=\"data row7 col0\" >Lasso Least Angular Regressor w/ Cond. Deseasonalize & Detrending</td>\n",
              "      <td id=\"T_0ca38_row7_col1\" class=\"data row7 col1\" >0.1312</td>\n",
              "      <td id=\"T_0ca38_row7_col2\" class=\"data row7 col2\" >0.0991</td>\n",
              "      <td id=\"T_0ca38_row7_col3\" class=\"data row7 col3\" >637.6844</td>\n",
              "      <td id=\"T_0ca38_row7_col4\" class=\"data row7 col4\" >637.6844</td>\n",
              "      <td id=\"T_0ca38_row7_col5\" class=\"data row7 col5\" >0.0092</td>\n",
              "      <td id=\"T_0ca38_row7_col6\" class=\"data row7 col6\" >0.0092</td>\n",
              "      <td id=\"T_0ca38_row7_col7\" class=\"data row7 col7\" >0.0867</td>\n",
              "    </tr>\n",
              "    <tr>\n",
              "      <th id=\"T_0ca38_level0_row8\" class=\"row_heading level0 row8\" >lr_cds_dt</th>\n",
              "      <td id=\"T_0ca38_row8_col0\" class=\"data row8 col0\" >Linear w/ Cond. Deseasonalize & Detrending</td>\n",
              "      <td id=\"T_0ca38_row8_col1\" class=\"data row8 col1\" >0.1312</td>\n",
              "      <td id=\"T_0ca38_row8_col2\" class=\"data row8 col2\" >0.0991</td>\n",
              "      <td id=\"T_0ca38_row8_col3\" class=\"data row8 col3\" >637.6822</td>\n",
              "      <td id=\"T_0ca38_row8_col4\" class=\"data row8 col4\" >637.6822</td>\n",
              "      <td id=\"T_0ca38_row8_col5\" class=\"data row8 col5\" >0.0092</td>\n",
              "      <td id=\"T_0ca38_row8_col6\" class=\"data row8 col6\" >0.0092</td>\n",
              "      <td id=\"T_0ca38_row8_col7\" class=\"data row8 col7\" >0.2100</td>\n",
              "    </tr>\n",
              "    <tr>\n",
              "      <th id=\"T_0ca38_level0_row9\" class=\"row_heading level0 row9\" >ets</th>\n",
              "      <td id=\"T_0ca38_row9_col0\" class=\"data row9 col0\" >ETS</td>\n",
              "      <td id=\"T_0ca38_row9_col1\" class=\"data row9 col1\" >0.1363</td>\n",
              "      <td id=\"T_0ca38_row9_col2\" class=\"data row9 col2\" >0.1029</td>\n",
              "      <td id=\"T_0ca38_row9_col3\" class=\"data row9 col3\" >662.2422</td>\n",
              "      <td id=\"T_0ca38_row9_col4\" class=\"data row9 col4\" >662.2422</td>\n",
              "      <td id=\"T_0ca38_row9_col5\" class=\"data row9 col5\" >0.0096</td>\n",
              "      <td id=\"T_0ca38_row9_col6\" class=\"data row9 col6\" >0.0095</td>\n",
              "      <td id=\"T_0ca38_row9_col7\" class=\"data row9 col7\" >0.2000</td>\n",
              "    </tr>\n",
              "    <tr>\n",
              "      <th id=\"T_0ca38_level0_row10\" class=\"row_heading level0 row10\" >br_cds_dt</th>\n",
              "      <td id=\"T_0ca38_row10_col0\" class=\"data row10 col0\" >Bayesian Ridge w/ Cond. Deseasonalize & Detrending</td>\n",
              "      <td id=\"T_0ca38_row10_col1\" class=\"data row10 col1\" >0.1467</td>\n",
              "      <td id=\"T_0ca38_row10_col2\" class=\"data row10 col2\" >0.1107</td>\n",
              "      <td id=\"T_0ca38_row10_col3\" class=\"data row10 col3\" >712.6111</td>\n",
              "      <td id=\"T_0ca38_row10_col4\" class=\"data row10 col4\" >712.6111</td>\n",
              "      <td id=\"T_0ca38_row10_col5\" class=\"data row10 col5\" >0.0103</td>\n",
              "      <td id=\"T_0ca38_row10_col6\" class=\"data row10 col6\" >0.0102</td>\n",
              "      <td id=\"T_0ca38_row10_col7\" class=\"data row10 col7\" >0.0967</td>\n",
              "    </tr>\n",
              "    <tr>\n",
              "      <th id=\"T_0ca38_level0_row11\" class=\"row_heading level0 row11\" >exp_smooth</th>\n",
              "      <td id=\"T_0ca38_row11_col0\" class=\"data row11 col0\" >Exponential Smoothing</td>\n",
              "      <td id=\"T_0ca38_row11_col1\" class=\"data row11 col1\" >0.1475</td>\n",
              "      <td id=\"T_0ca38_row11_col2\" class=\"data row11 col2\" >0.1113</td>\n",
              "      <td id=\"T_0ca38_row11_col3\" class=\"data row11 col3\" >716.4812</td>\n",
              "      <td id=\"T_0ca38_row11_col4\" class=\"data row11 col4\" >716.4812</td>\n",
              "      <td id=\"T_0ca38_row11_col5\" class=\"data row11 col5\" >0.0103</td>\n",
              "      <td id=\"T_0ca38_row11_col6\" class=\"data row11 col6\" >0.0103</td>\n",
              "      <td id=\"T_0ca38_row11_col7\" class=\"data row11 col7\" >0.8100</td>\n",
              "    </tr>\n",
              "    <tr>\n",
              "      <th id=\"T_0ca38_level0_row12\" class=\"row_heading level0 row12\" >huber_cds_dt</th>\n",
              "      <td id=\"T_0ca38_row12_col0\" class=\"data row12 col0\" >Huber w/ Cond. Deseasonalize & Detrending</td>\n",
              "      <td id=\"T_0ca38_row12_col1\" class=\"data row12 col1\" >0.1497</td>\n",
              "      <td id=\"T_0ca38_row12_col2\" class=\"data row12 col2\" >0.1130</td>\n",
              "      <td id=\"T_0ca38_row12_col3\" class=\"data row12 col3\" >727.4228</td>\n",
              "      <td id=\"T_0ca38_row12_col4\" class=\"data row12 col4\" >727.4228</td>\n",
              "      <td id=\"T_0ca38_row12_col5\" class=\"data row12 col5\" >0.0105</td>\n",
              "      <td id=\"T_0ca38_row12_col6\" class=\"data row12 col6\" >0.0105</td>\n",
              "      <td id=\"T_0ca38_row12_col7\" class=\"data row12 col7\" >0.1500</td>\n",
              "    </tr>\n",
              "    <tr>\n",
              "      <th id=\"T_0ca38_level0_row13\" class=\"row_heading level0 row13\" >omp_cds_dt</th>\n",
              "      <td id=\"T_0ca38_row13_col0\" class=\"data row13 col0\" >Orthogonal Matching Pursuit w/ Cond. Deseasonalize & Detrending</td>\n",
              "      <td id=\"T_0ca38_row13_col1\" class=\"data row13 col1\" >0.1537</td>\n",
              "      <td id=\"T_0ca38_row13_col2\" class=\"data row13 col2\" >0.1160</td>\n",
              "      <td id=\"T_0ca38_row13_col3\" class=\"data row13 col3\" >746.6764</td>\n",
              "      <td id=\"T_0ca38_row13_col4\" class=\"data row13 col4\" >746.6764</td>\n",
              "      <td id=\"T_0ca38_row13_col5\" class=\"data row13 col5\" >0.0108</td>\n",
              "      <td id=\"T_0ca38_row13_col6\" class=\"data row13 col6\" >0.0107</td>\n",
              "      <td id=\"T_0ca38_row13_col7\" class=\"data row13 col7\" >0.1800</td>\n",
              "    </tr>\n",
              "    <tr>\n",
              "      <th id=\"T_0ca38_level0_row14\" class=\"row_heading level0 row14\" >arima</th>\n",
              "      <td id=\"T_0ca38_row14_col0\" class=\"data row14 col0\" >ARIMA</td>\n",
              "      <td id=\"T_0ca38_row14_col1\" class=\"data row14 col1\" >0.1542</td>\n",
              "      <td id=\"T_0ca38_row14_col2\" class=\"data row14 col2\" >0.1165</td>\n",
              "      <td id=\"T_0ca38_row14_col3\" class=\"data row14 col3\" >749.8543</td>\n",
              "      <td id=\"T_0ca38_row14_col4\" class=\"data row14 col4\" >749.8543</td>\n",
              "      <td id=\"T_0ca38_row14_col5\" class=\"data row14 col5\" >0.0109</td>\n",
              "      <td id=\"T_0ca38_row14_col6\" class=\"data row14 col6\" >0.0110</td>\n",
              "      <td id=\"T_0ca38_row14_col7\" class=\"data row14 col7\" >1.0833</td>\n",
              "    </tr>\n",
              "    <tr>\n",
              "      <th id=\"T_0ca38_level0_row15\" class=\"row_heading level0 row15\" >xgboost_cds_dt</th>\n",
              "      <td id=\"T_0ca38_row15_col0\" class=\"data row15 col0\" >Extreme Gradient Boosting w/ Cond. Deseasonalize & Detrending</td>\n",
              "      <td id=\"T_0ca38_row15_col1\" class=\"data row15 col1\" >0.1553</td>\n",
              "      <td id=\"T_0ca38_row15_col2\" class=\"data row15 col2\" >0.1173</td>\n",
              "      <td id=\"T_0ca38_row15_col3\" class=\"data row15 col3\" >754.8020</td>\n",
              "      <td id=\"T_0ca38_row15_col4\" class=\"data row15 col4\" >754.8020</td>\n",
              "      <td id=\"T_0ca38_row15_col5\" class=\"data row15 col5\" >0.0110</td>\n",
              "      <td id=\"T_0ca38_row15_col6\" class=\"data row15 col6\" >0.0109</td>\n",
              "      <td id=\"T_0ca38_row15_col7\" class=\"data row15 col7\" >0.3533</td>\n",
              "    </tr>\n",
              "    <tr>\n",
              "      <th id=\"T_0ca38_level0_row16\" class=\"row_heading level0 row16\" >stlf</th>\n",
              "      <td id=\"T_0ca38_row16_col0\" class=\"data row16 col0\" >STLF</td>\n",
              "      <td id=\"T_0ca38_row16_col1\" class=\"data row16 col1\" >0.1554</td>\n",
              "      <td id=\"T_0ca38_row16_col2\" class=\"data row16 col2\" >0.1173</td>\n",
              "      <td id=\"T_0ca38_row16_col3\" class=\"data row16 col3\" >754.7377</td>\n",
              "      <td id=\"T_0ca38_row16_col4\" class=\"data row16 col4\" >754.7377</td>\n",
              "      <td id=\"T_0ca38_row16_col5\" class=\"data row16 col5\" >0.0109</td>\n",
              "      <td id=\"T_0ca38_row16_col6\" class=\"data row16 col6\" >0.0110</td>\n",
              "      <td id=\"T_0ca38_row16_col7\" class=\"data row16 col7\" >0.0533</td>\n",
              "    </tr>\n",
              "    <tr>\n",
              "      <th id=\"T_0ca38_level0_row17\" class=\"row_heading level0 row17\" >rf_cds_dt</th>\n",
              "      <td id=\"T_0ca38_row17_col0\" class=\"data row17 col0\" >Random Forest w/ Cond. Deseasonalize & Detrending</td>\n",
              "      <td id=\"T_0ca38_row17_col1\" class=\"data row17 col1\" >0.1568</td>\n",
              "      <td id=\"T_0ca38_row17_col2\" class=\"data row17 col2\" >0.1184</td>\n",
              "      <td id=\"T_0ca38_row17_col3\" class=\"data row17 col3\" >762.1005</td>\n",
              "      <td id=\"T_0ca38_row17_col4\" class=\"data row17 col4\" >762.1005</td>\n",
              "      <td id=\"T_0ca38_row17_col5\" class=\"data row17 col5\" >0.0110</td>\n",
              "      <td id=\"T_0ca38_row17_col6\" class=\"data row17 col6\" >0.0110</td>\n",
              "      <td id=\"T_0ca38_row17_col7\" class=\"data row17 col7\" >0.4500</td>\n",
              "    </tr>\n",
              "    <tr>\n",
              "      <th id=\"T_0ca38_level0_row18\" class=\"row_heading level0 row18\" >theta</th>\n",
              "      <td id=\"T_0ca38_row18_col0\" class=\"data row18 col0\" >Theta Forecaster</td>\n",
              "      <td id=\"T_0ca38_row18_col1\" class=\"data row18 col1\" >0.1977</td>\n",
              "      <td id=\"T_0ca38_row18_col2\" class=\"data row18 col2\" >0.1493</td>\n",
              "      <td id=\"T_0ca38_row18_col3\" class=\"data row18 col3\" >960.7625</td>\n",
              "      <td id=\"T_0ca38_row18_col4\" class=\"data row18 col4\" >960.7625</td>\n",
              "      <td id=\"T_0ca38_row18_col5\" class=\"data row18 col5\" >0.0139</td>\n",
              "      <td id=\"T_0ca38_row18_col6\" class=\"data row18 col6\" >0.0138</td>\n",
              "      <td id=\"T_0ca38_row18_col7\" class=\"data row18 col7\" >0.0300</td>\n",
              "    </tr>\n",
              "    <tr>\n",
              "      <th id=\"T_0ca38_level0_row19\" class=\"row_heading level0 row19\" >knn_cds_dt</th>\n",
              "      <td id=\"T_0ca38_row19_col0\" class=\"data row19 col0\" >K Neighbors w/ Cond. Deseasonalize & Detrending</td>\n",
              "      <td id=\"T_0ca38_row19_col1\" class=\"data row19 col1\" >0.2004</td>\n",
              "      <td id=\"T_0ca38_row19_col2\" class=\"data row19 col2\" >0.1513</td>\n",
              "      <td id=\"T_0ca38_row19_col3\" class=\"data row19 col3\" >974.2176</td>\n",
              "      <td id=\"T_0ca38_row19_col4\" class=\"data row19 col4\" >974.2176</td>\n",
              "      <td id=\"T_0ca38_row19_col5\" class=\"data row19 col5\" >0.0141</td>\n",
              "      <td id=\"T_0ca38_row19_col6\" class=\"data row19 col6\" >0.0140</td>\n",
              "      <td id=\"T_0ca38_row19_col7\" class=\"data row19 col7\" >0.0833</td>\n",
              "    </tr>\n",
              "    <tr>\n",
              "      <th id=\"T_0ca38_level0_row20\" class=\"row_heading level0 row20\" >croston</th>\n",
              "      <td id=\"T_0ca38_row20_col0\" class=\"data row20 col0\" >Croston</td>\n",
              "      <td id=\"T_0ca38_row20_col1\" class=\"data row20 col1\" >0.2135</td>\n",
              "      <td id=\"T_0ca38_row20_col2\" class=\"data row20 col2\" >0.1612</td>\n",
              "      <td id=\"T_0ca38_row20_col3\" class=\"data row20 col3\" >1037.2540</td>\n",
              "      <td id=\"T_0ca38_row20_col4\" class=\"data row20 col4\" >1037.2540</td>\n",
              "      <td id=\"T_0ca38_row20_col5\" class=\"data row20 col5\" >0.0150</td>\n",
              "      <td id=\"T_0ca38_row20_col6\" class=\"data row20 col6\" >0.0151</td>\n",
              "      <td id=\"T_0ca38_row20_col7\" class=\"data row20 col7\" >0.0167</td>\n",
              "    </tr>\n",
              "    <tr>\n",
              "      <th id=\"T_0ca38_level0_row21\" class=\"row_heading level0 row21\" >et_cds_dt</th>\n",
              "      <td id=\"T_0ca38_row21_col0\" class=\"data row21 col0\" >Extra Trees w/ Cond. Deseasonalize & Detrending</td>\n",
              "      <td id=\"T_0ca38_row21_col1\" class=\"data row21 col1\" >0.2434</td>\n",
              "      <td id=\"T_0ca38_row21_col2\" class=\"data row21 col2\" >0.1837</td>\n",
              "      <td id=\"T_0ca38_row21_col3\" class=\"data row21 col3\" >1182.5892</td>\n",
              "      <td id=\"T_0ca38_row21_col4\" class=\"data row21 col4\" >1182.5892</td>\n",
              "      <td id=\"T_0ca38_row21_col5\" class=\"data row21 col5\" >0.0171</td>\n",
              "      <td id=\"T_0ca38_row21_col6\" class=\"data row21 col6\" >0.0170</td>\n",
              "      <td id=\"T_0ca38_row21_col7\" class=\"data row21 col7\" >0.2767</td>\n",
              "    </tr>\n",
              "    <tr>\n",
              "      <th id=\"T_0ca38_level0_row22\" class=\"row_heading level0 row22\" >ada_cds_dt</th>\n",
              "      <td id=\"T_0ca38_row22_col0\" class=\"data row22 col0\" >AdaBoost w/ Cond. Deseasonalize & Detrending</td>\n",
              "      <td id=\"T_0ca38_row22_col1\" class=\"data row22 col1\" >0.2687</td>\n",
              "      <td id=\"T_0ca38_row22_col2\" class=\"data row22 col2\" >0.2029</td>\n",
              "      <td id=\"T_0ca38_row22_col3\" class=\"data row22 col3\" >1305.8302</td>\n",
              "      <td id=\"T_0ca38_row22_col4\" class=\"data row22 col4\" >1305.8302</td>\n",
              "      <td id=\"T_0ca38_row22_col5\" class=\"data row22 col5\" >0.0189</td>\n",
              "      <td id=\"T_0ca38_row22_col6\" class=\"data row22 col6\" >0.0187</td>\n",
              "      <td id=\"T_0ca38_row22_col7\" class=\"data row22 col7\" >0.1800</td>\n",
              "    </tr>\n",
              "    <tr>\n",
              "      <th id=\"T_0ca38_level0_row23\" class=\"row_heading level0 row23\" >dt_cds_dt</th>\n",
              "      <td id=\"T_0ca38_row23_col0\" class=\"data row23 col0\" >Decision Tree w/ Cond. Deseasonalize & Detrending</td>\n",
              "      <td id=\"T_0ca38_row23_col1\" class=\"data row23 col1\" >0.3032</td>\n",
              "      <td id=\"T_0ca38_row23_col2\" class=\"data row23 col2\" >0.2289</td>\n",
              "      <td id=\"T_0ca38_row23_col3\" class=\"data row23 col3\" >1473.4211</td>\n",
              "      <td id=\"T_0ca38_row23_col4\" class=\"data row23 col4\" >1473.4211</td>\n",
              "      <td id=\"T_0ca38_row23_col5\" class=\"data row23 col5\" >0.0213</td>\n",
              "      <td id=\"T_0ca38_row23_col6\" class=\"data row23 col6\" >0.0209</td>\n",
              "      <td id=\"T_0ca38_row23_col7\" class=\"data row23 col7\" >0.0900</td>\n",
              "    </tr>\n",
              "    <tr>\n",
              "      <th id=\"T_0ca38_level0_row24\" class=\"row_heading level0 row24\" >polytrend</th>\n",
              "      <td id=\"T_0ca38_row24_col0\" class=\"data row24 col0\" >Polynomial Trend Forecaster</td>\n",
              "      <td id=\"T_0ca38_row24_col1\" class=\"data row24 col1\" >0.9553</td>\n",
              "      <td id=\"T_0ca38_row24_col2\" class=\"data row24 col2\" >0.7213</td>\n",
              "      <td id=\"T_0ca38_row24_col3\" class=\"data row24 col3\" >4642.4054</td>\n",
              "      <td id=\"T_0ca38_row24_col4\" class=\"data row24 col4\" >4642.4054</td>\n",
              "      <td id=\"T_0ca38_row24_col5\" class=\"data row24 col5\" >0.0671</td>\n",
              "      <td id=\"T_0ca38_row24_col6\" class=\"data row24 col6\" >0.0649</td>\n",
              "      <td id=\"T_0ca38_row24_col7\" class=\"data row24 col7\" >0.0333</td>\n",
              "    </tr>\n",
              "    <tr>\n",
              "      <th id=\"T_0ca38_level0_row25\" class=\"row_heading level0 row25\" >snaive</th>\n",
              "      <td id=\"T_0ca38_row25_col0\" class=\"data row25 col0\" >Seasonal Naive Forecaster</td>\n",
              "      <td id=\"T_0ca38_row25_col1\" class=\"data row25 col1\" >1.5477</td>\n",
              "      <td id=\"T_0ca38_row25_col2\" class=\"data row25 col2\" >1.1684</td>\n",
              "      <td id=\"T_0ca38_row25_col3\" class=\"data row25 col3\" >7520.7096</td>\n",
              "      <td id=\"T_0ca38_row25_col4\" class=\"data row25 col4\" >7520.7096</td>\n",
              "      <td id=\"T_0ca38_row25_col5\" class=\"data row25 col5\" >0.1088</td>\n",
              "      <td id=\"T_0ca38_row25_col6\" class=\"data row25 col6\" >0.1150</td>\n",
              "      <td id=\"T_0ca38_row25_col7\" class=\"data row25 col7\" >0.1000</td>\n",
              "    </tr>\n",
              "    <tr>\n",
              "      <th id=\"T_0ca38_level0_row26\" class=\"row_heading level0 row26\" >grand_means</th>\n",
              "      <td id=\"T_0ca38_row26_col0\" class=\"data row26 col0\" >Grand Means Forecaster</td>\n",
              "      <td id=\"T_0ca38_row26_col1\" class=\"data row26 col1\" >4.0048</td>\n",
              "      <td id=\"T_0ca38_row26_col2\" class=\"data row26 col2\" >3.0233</td>\n",
              "      <td id=\"T_0ca38_row26_col3\" class=\"data row26 col3\" >19459.5127</td>\n",
              "      <td id=\"T_0ca38_row26_col4\" class=\"data row26 col4\" >19459.5127</td>\n",
              "      <td id=\"T_0ca38_row26_col5\" class=\"data row26 col5\" >0.2813</td>\n",
              "      <td id=\"T_0ca38_row26_col6\" class=\"data row26 col6\" >0.3274</td>\n",
              "      <td id=\"T_0ca38_row26_col7\" class=\"data row26 col7\" >0.0367</td>\n",
              "    </tr>\n",
              "  </tbody>\n",
              "</table>\n"
            ],
            "text/plain": [
              "<pandas.io.formats.style.Styler at 0x7b7eaf8f8190>"
            ]
          },
          "metadata": {},
          "output_type": "display_data"
        },
        {
          "data": {
            "application/vnd.jupyter.widget-view+json": {
              "model_id": "6e21450ba4ab4c28a7eb1a7eee688372",
              "version_major": 2,
              "version_minor": 0
            },
            "text/plain": [
              "Processing:   0%|          | 0/117 [00:00<?, ?it/s]"
            ]
          },
          "metadata": {
            "application/vnd.jupyter.widget-view+json": {
              "colab": {
                "custom_widget_manager": {
                  "url": "https://ssl.gstatic.com/colaboratory-static/widgets/colab-cdn-widget-manager/2b70e893a8ba7c0f/manager.min.js"
                }
              }
            }
          },
          "output_type": "display_data"
        },
        {
          "data": {
            "text/html": [],
            "text/plain": [
              "<IPython.core.display.HTML object>"
            ]
          },
          "metadata": {},
          "output_type": "display_data"
        },
        {
          "data": {
            "text/html": [],
            "text/plain": [
              "<IPython.core.display.HTML object>"
            ]
          },
          "metadata": {},
          "output_type": "display_data"
        },
        {
          "data": {
            "text/html": [
              "<style type=\"text/css\">\n",
              "#T_3820c_row3_col0, #T_3820c_row3_col1, #T_3820c_row3_col2, #T_3820c_row3_col3, #T_3820c_row3_col4, #T_3820c_row3_col5, #T_3820c_row3_col6 {\n",
              "  background: yellow;\n",
              "}\n",
              "</style>\n",
              "<table id=\"T_3820c\" class=\"dataframe\">\n",
              "  <thead>\n",
              "    <tr>\n",
              "      <th class=\"blank level0\" >&nbsp;</th>\n",
              "      <th id=\"T_3820c_level0_col0\" class=\"col_heading level0 col0\" >cutoff</th>\n",
              "      <th id=\"T_3820c_level0_col1\" class=\"col_heading level0 col1\" >MASE</th>\n",
              "      <th id=\"T_3820c_level0_col2\" class=\"col_heading level0 col2\" >RMSSE</th>\n",
              "      <th id=\"T_3820c_level0_col3\" class=\"col_heading level0 col3\" >MAE</th>\n",
              "      <th id=\"T_3820c_level0_col4\" class=\"col_heading level0 col4\" >RMSE</th>\n",
              "      <th id=\"T_3820c_level0_col5\" class=\"col_heading level0 col5\" >MAPE</th>\n",
              "      <th id=\"T_3820c_level0_col6\" class=\"col_heading level0 col6\" >SMAPE</th>\n",
              "    </tr>\n",
              "  </thead>\n",
              "  <tbody>\n",
              "    <tr>\n",
              "      <th id=\"T_3820c_level0_row0\" class=\"row_heading level0 row0\" >0</th>\n",
              "      <td id=\"T_3820c_row0_col0\" class=\"data row0 col0\" >2024-10-31</td>\n",
              "      <td id=\"T_3820c_row0_col1\" class=\"data row0 col1\" >0.1220</td>\n",
              "      <td id=\"T_3820c_row0_col2\" class=\"data row0 col2\" >0.0920</td>\n",
              "      <td id=\"T_3820c_row0_col3\" class=\"data row0 col3\" >591.9583</td>\n",
              "      <td id=\"T_3820c_row0_col4\" class=\"data row0 col4\" >591.9583</td>\n",
              "      <td id=\"T_3820c_row0_col5\" class=\"data row0 col5\" >0.0085</td>\n",
              "      <td id=\"T_3820c_row0_col6\" class=\"data row0 col6\" >0.0086</td>\n",
              "    </tr>\n",
              "    <tr>\n",
              "      <th id=\"T_3820c_level0_row1\" class=\"row_heading level0 row1\" >1</th>\n",
              "      <td id=\"T_3820c_row1_col0\" class=\"data row1 col0\" >2024-11-01</td>\n",
              "      <td id=\"T_3820c_row1_col1\" class=\"data row1 col1\" >0.1149</td>\n",
              "      <td id=\"T_3820c_row1_col2\" class=\"data row1 col2\" >0.0867</td>\n",
              "      <td id=\"T_3820c_row1_col3\" class=\"data row1 col3\" >558.2791</td>\n",
              "      <td id=\"T_3820c_row1_col4\" class=\"data row1 col4\" >558.2791</td>\n",
              "      <td id=\"T_3820c_row1_col5\" class=\"data row1 col5\" >0.0081</td>\n",
              "      <td id=\"T_3820c_row1_col6\" class=\"data row1 col6\" >0.0081</td>\n",
              "    </tr>\n",
              "    <tr>\n",
              "      <th id=\"T_3820c_level0_row2\" class=\"row_heading level0 row2\" >2</th>\n",
              "      <td id=\"T_3820c_row2_col0\" class=\"data row2 col0\" >2024-11-02</td>\n",
              "      <td id=\"T_3820c_row2_col1\" class=\"data row2 col1\" >0.0288</td>\n",
              "      <td id=\"T_3820c_row2_col2\" class=\"data row2 col2\" >0.0217</td>\n",
              "      <td id=\"T_3820c_row2_col3\" class=\"data row2 col3\" >139.9200</td>\n",
              "      <td id=\"T_3820c_row2_col4\" class=\"data row2 col4\" >139.9200</td>\n",
              "      <td id=\"T_3820c_row2_col5\" class=\"data row2 col5\" >0.0020</td>\n",
              "      <td id=\"T_3820c_row2_col6\" class=\"data row2 col6\" >0.0020</td>\n",
              "    </tr>\n",
              "    <tr>\n",
              "      <th id=\"T_3820c_level0_row3\" class=\"row_heading level0 row3\" >Mean</th>\n",
              "      <td id=\"T_3820c_row3_col0\" class=\"data row3 col0\" >NaT</td>\n",
              "      <td id=\"T_3820c_row3_col1\" class=\"data row3 col1\" >0.0885</td>\n",
              "      <td id=\"T_3820c_row3_col2\" class=\"data row3 col2\" >0.0668</td>\n",
              "      <td id=\"T_3820c_row3_col3\" class=\"data row3 col3\" >430.0525</td>\n",
              "      <td id=\"T_3820c_row3_col4\" class=\"data row3 col4\" >430.0525</td>\n",
              "      <td id=\"T_3820c_row3_col5\" class=\"data row3 col5\" >0.0062</td>\n",
              "      <td id=\"T_3820c_row3_col6\" class=\"data row3 col6\" >0.0062</td>\n",
              "    </tr>\n",
              "    <tr>\n",
              "      <th id=\"T_3820c_level0_row4\" class=\"row_heading level0 row4\" >SD</th>\n",
              "      <td id=\"T_3820c_row4_col0\" class=\"data row4 col0\" >NaT</td>\n",
              "      <td id=\"T_3820c_row4_col1\" class=\"data row4 col1\" >0.0424</td>\n",
              "      <td id=\"T_3820c_row4_col2\" class=\"data row4 col2\" >0.0320</td>\n",
              "      <td id=\"T_3820c_row4_col3\" class=\"data row4 col3\" >205.6149</td>\n",
              "      <td id=\"T_3820c_row4_col4\" class=\"data row4 col4\" >205.6149</td>\n",
              "      <td id=\"T_3820c_row4_col5\" class=\"data row4 col5\" >0.0030</td>\n",
              "      <td id=\"T_3820c_row4_col6\" class=\"data row4 col6\" >0.0030</td>\n",
              "    </tr>\n",
              "  </tbody>\n",
              "</table>\n"
            ],
            "text/plain": [
              "<pandas.io.formats.style.Styler at 0x7b7eb07a7150>"
            ]
          },
          "metadata": {},
          "output_type": "display_data"
        },
        {
          "data": {
            "application/vnd.jupyter.widget-view+json": {
              "model_id": "3d23ccc7aa8a42c89fd2fddee016c739",
              "version_major": 2,
              "version_minor": 0
            },
            "text/plain": [
              "Processing:   0%|          | 0/4 [00:00<?, ?it/s]"
            ]
          },
          "metadata": {
            "application/vnd.jupyter.widget-view+json": {
              "colab": {
                "custom_widget_manager": {
                  "url": "https://ssl.gstatic.com/colaboratory-static/widgets/colab-cdn-widget-manager/2b70e893a8ba7c0f/manager.min.js"
                }
              }
            }
          },
          "output_type": "display_data"
        },
        {
          "data": {
            "text/html": [],
            "text/plain": [
              "<IPython.core.display.HTML object>"
            ]
          },
          "metadata": {},
          "output_type": "display_data"
        }
      ],
      "source": [
        "result = time_series.get_all_models(X_train)\n"
      ]
    },
    {
      "cell_type": "markdown",
      "metadata": {},
      "source": [
        "Visualize Pycaret prediction."
      ]
    },
    {
      "cell_type": "code",
      "execution_count": 16,
      "metadata": {
        "colab": {
          "base_uri": "https://localhost:8080/",
          "height": 500
        },
        "id": "p1OAFgNGVdWq",
        "outputId": "da259d28-c230-4247-edaa-a993d7ddda9b"
      },
      "outputs": [
        {
          "data": {
            "image/png": "[encoded data removed]",
            "text/plain": [
              "<Figure size 1000x500 with 1 Axes>"
            ]
          },
          "metadata": {},
          "output_type": "display_data"
        }
      ],
      "source": [
        "plt.figure(figsize=(10, 5))\n",
        "plt.plot(df[-500:-100]['date'], df[-500:-100]['value'], label='Train Values')\n",
        "plt.plot(X_test['date'], X_test['value'], label='Correct values')\n",
        "plt.plot(result['Pycaret']['predict'].index, result['Pycaret']['predict'], label='Predicted values')\n",
        "plt.xlabel('Date')\n",
        "plt.ylabel('Value')\n",
        "plt.title('Pycaret Prediction')\n",
        "plt.legend()\n",
        "plt.show()"
      ]
    },
    {
      "cell_type": "markdown",
      "metadata": {},
      "source": [
        "Visualize Auto ARIMA prediction."
      ]
    },
    {
      "cell_type": "code",
      "execution_count": 17,
      "metadata": {
        "colab": {
          "base_uri": "https://localhost:8080/",
          "height": 500
        },
        "id": "pFcNaDdkyvZU",
        "outputId": "d1fa9646-e5bb-45e6-ec86-4913733a4286"
      },
      "outputs": [
        {
          "data": {
            "image/png": "[encoded data removed]",
            "text/plain": [
              "<Figure size 1000x500 with 1 Axes>"
            ]
          },
          "metadata": {},
          "output_type": "display_data"
        }
      ],
      "source": [
        "plt.figure(figsize=(10, 5))\n",
        "plt.plot(df[-500:-100]['date'].index, df[-500:-100]['value'], label='Train Values')\n",
        "plt.plot(X_test['date'].index, X_test['value'], label='Correct Values')\n",
        "plt.plot(result['Auto ARIMA']['predict'].index, result['Auto ARIMA']['predict'], label='Predicted Values')\n",
        "plt.xlabel('Date')\n",
        "plt.ylabel('Value')\n",
        "plt.title('Auto ARIMA Prediction')\n",
        "plt.legend()\n",
        "plt.show()"
      ]
    },
    {
      "cell_type": "markdown",
      "metadata": {},
      "source": [
        "Evaluate models metrics."
      ]
    },
    {
      "cell_type": "code",
      "execution_count": 13,
      "metadata": {
        "colab": {
          "base_uri": "https://localhost:8080/"
        },
        "id": "zuiwADbq9gGE",
        "outputId": "c4e6fbb9-61b1-495e-db35-6f54fb002000"
      },
      "outputs": [
        {
          "name": "stdout",
          "output_type": "stream",
          "text": [
            "----------------------\n",
            "Pycaret model metrics:\n",
            "Mean Absolute Error (MAE): 25335.725\n",
            "Mean Squared Error (MSE): 677840546.804\n",
            "Root Mean Squared Error (RMSE): 26035.371\n",
            "Mean Absolute Percentage Error (MAPE): 25.940%\n",
            "----------------------\n",
            "----------------------\n",
            "Auto ARIMA model metrics:\n",
            "Mean Absolute Error (MAE): 28492.549\n",
            "Mean Squared Error (MSE): 856575702.789\n",
            "Root Mean Squared Error (RMSE): 29267.315\n",
            "Mean Absolute Percentage Error (MAPE): 29.177%\n",
            "----------------------\n"
          ]
        }
      ],
      "source": [
        "metrics_results = metrics.get_timeseries_models_metrics(X_test['value'], result)"
      ]
    },
    {
      "cell_type": "markdown",
      "metadata": {},
      "source": [
        "Let's compare real and predicted values."
      ]
    },
    {
      "cell_type": "code",
      "execution_count": 15,
      "metadata": {
        "colab": {
          "base_uri": "https://localhost:8080/",
          "height": 500
        },
        "id": "hbX_yP0OB3qQ",
        "outputId": "5d6e6225-5c02-4c0c-91a7-b19d82419948"
      },
      "outputs": [
        {
          "data": {
            "image/png": "[encoded data removed]",
            "text/plain": [
              "<Figure size 1000x500 with 1 Axes>"
            ]
          },
          "metadata": {},
          "output_type": "display_data"
        }
      ],
      "source": [
        "plt.figure(figsize=(10, 5))\n",
        "plt.plot(X_test['date'], X_test['value'], label='Correct values')\n",
        "plt.plot(result['Pycaret']['predict'].index, result['Pycaret']['predict'], label='Predicted values')\n",
        "plt.xlabel('Date')\n",
        "plt.ylabel('Cost in USD')\n",
        "plt.title('BTC cost in USD')\n",
        "plt.legend()\n",
        "plt.show()"
      ]
    },
    {
      "cell_type": "markdown",
      "metadata": {
        "id": "Jv3cvKo6FxJs"
      },
      "source": [
        "Anomalies detection using pycaret."
      ]
    },
    {
      "cell_type": "code",
      "execution_count": 35,
      "metadata": {
        "colab": {
          "base_uri": "https://localhost:8080/",
          "height": 641,
          "referenced_widgets": [
            "23ffb1dac3bf46d0acb1c30473f201ea",
            "141f86f9996c4cb1826f7141b8edd51e",
            "844f510e60b64432a188069fba48a040",
            "4c615c4c85f149879ffe42c7d4c971a3",
            "c5d93d48c7304ef5a48cd2c391eea309",
            "c2fc6163726d4a37810cf615abcf3149",
            "8f4a731535a847c6866e0115500844e4",
            "723b1d8785a74ca099280fd0faf7b018",
            "5e87cd23eca446bb8cdf0881431b8c7b",
            "18277101a33e415bbd13bd5787d435ef",
            "0f6f0628cc77452f9adf8b17ae93b0b2"
          ]
        },
        "id": "V_eBGGp0CkDl",
        "outputId": "34413f65-ef0d-4150-9584-bd0be44e6ba2"
      },
      "outputs": [
        {
          "data": {
            "text/html": [
              "<style type=\"text/css\">\n",
              "#T_4271d_row4_col1, #T_4271d_row8_col1 {\n",
              "  background-color: lightgreen;\n",
              "}\n",
              "</style>\n",
              "<table id=\"T_4271d\" class=\"dataframe\">\n",
              "  <thead>\n",
              "    <tr>\n",
              "      <th class=\"blank level0\" >&nbsp;</th>\n",
              "      <th id=\"T_4271d_level0_col0\" class=\"col_heading level0 col0\" >Description</th>\n",
              "      <th id=\"T_4271d_level0_col1\" class=\"col_heading level0 col1\" >Value</th>\n",
              "    </tr>\n",
              "  </thead>\n",
              "  <tbody>\n",
              "    <tr>\n",
              "      <th id=\"T_4271d_level0_row0\" class=\"row_heading level0 row0\" >0</th>\n",
              "      <td id=\"T_4271d_row0_col0\" class=\"data row0 col0\" >Session id</td>\n",
              "      <td id=\"T_4271d_row0_col1\" class=\"data row0 col1\" >7204</td>\n",
              "    </tr>\n",
              "    <tr>\n",
              "      <th id=\"T_4271d_level0_row1\" class=\"row_heading level0 row1\" >1</th>\n",
              "      <td id=\"T_4271d_row1_col0\" class=\"data row1 col0\" >Original data shape</td>\n",
              "      <td id=\"T_4271d_row1_col1\" class=\"data row1 col1\" >(100, 1)</td>\n",
              "    </tr>\n",
              "    <tr>\n",
              "      <th id=\"T_4271d_level0_row2\" class=\"row_heading level0 row2\" >2</th>\n",
              "      <td id=\"T_4271d_row2_col0\" class=\"data row2 col0\" >Transformed data shape</td>\n",
              "      <td id=\"T_4271d_row2_col1\" class=\"data row2 col1\" >(100, 1)</td>\n",
              "    </tr>\n",
              "    <tr>\n",
              "      <th id=\"T_4271d_level0_row3\" class=\"row_heading level0 row3\" >3</th>\n",
              "      <td id=\"T_4271d_row3_col0\" class=\"data row3 col0\" >Numeric features</td>\n",
              "      <td id=\"T_4271d_row3_col1\" class=\"data row3 col1\" >1</td>\n",
              "    </tr>\n",
              "    <tr>\n",
              "      <th id=\"T_4271d_level0_row4\" class=\"row_heading level0 row4\" >4</th>\n",
              "      <td id=\"T_4271d_row4_col0\" class=\"data row4 col0\" >Preprocess</td>\n",
              "      <td id=\"T_4271d_row4_col1\" class=\"data row4 col1\" >True</td>\n",
              "    </tr>\n",
              "    <tr>\n",
              "      <th id=\"T_4271d_level0_row5\" class=\"row_heading level0 row5\" >5</th>\n",
              "      <td id=\"T_4271d_row5_col0\" class=\"data row5 col0\" >Imputation type</td>\n",
              "      <td id=\"T_4271d_row5_col1\" class=\"data row5 col1\" >simple</td>\n",
              "    </tr>\n",
              "    <tr>\n",
              "      <th id=\"T_4271d_level0_row6\" class=\"row_heading level0 row6\" >6</th>\n",
              "      <td id=\"T_4271d_row6_col0\" class=\"data row6 col0\" >Numeric imputation</td>\n",
              "      <td id=\"T_4271d_row6_col1\" class=\"data row6 col1\" >mean</td>\n",
              "    </tr>\n",
              "    <tr>\n",
              "      <th id=\"T_4271d_level0_row7\" class=\"row_heading level0 row7\" >7</th>\n",
              "      <td id=\"T_4271d_row7_col0\" class=\"data row7 col0\" >Categorical imputation</td>\n",
              "      <td id=\"T_4271d_row7_col1\" class=\"data row7 col1\" >mode</td>\n",
              "    </tr>\n",
              "    <tr>\n",
              "      <th id=\"T_4271d_level0_row8\" class=\"row_heading level0 row8\" >8</th>\n",
              "      <td id=\"T_4271d_row8_col0\" class=\"data row8 col0\" >Normalize</td>\n",
              "      <td id=\"T_4271d_row8_col1\" class=\"data row8 col1\" >True</td>\n",
              "    </tr>\n",
              "    <tr>\n",
              "      <th id=\"T_4271d_level0_row9\" class=\"row_heading level0 row9\" >9</th>\n",
              "      <td id=\"T_4271d_row9_col0\" class=\"data row9 col0\" >Normalize method</td>\n",
              "      <td id=\"T_4271d_row9_col1\" class=\"data row9 col1\" >zscore</td>\n",
              "    </tr>\n",
              "    <tr>\n",
              "      <th id=\"T_4271d_level0_row10\" class=\"row_heading level0 row10\" >10</th>\n",
              "      <td id=\"T_4271d_row10_col0\" class=\"data row10 col0\" >CPU Jobs</td>\n",
              "      <td id=\"T_4271d_row10_col1\" class=\"data row10 col1\" >-1</td>\n",
              "    </tr>\n",
              "    <tr>\n",
              "      <th id=\"T_4271d_level0_row11\" class=\"row_heading level0 row11\" >11</th>\n",
              "      <td id=\"T_4271d_row11_col0\" class=\"data row11 col0\" >Use GPU</td>\n",
              "      <td id=\"T_4271d_row11_col1\" class=\"data row11 col1\" >False</td>\n",
              "    </tr>\n",
              "    <tr>\n",
              "      <th id=\"T_4271d_level0_row12\" class=\"row_heading level0 row12\" >12</th>\n",
              "      <td id=\"T_4271d_row12_col0\" class=\"data row12 col0\" >Log Experiment</td>\n",
              "      <td id=\"T_4271d_row12_col1\" class=\"data row12 col1\" >False</td>\n",
              "    </tr>\n",
              "    <tr>\n",
              "      <th id=\"T_4271d_level0_row13\" class=\"row_heading level0 row13\" >13</th>\n",
              "      <td id=\"T_4271d_row13_col0\" class=\"data row13 col0\" >Experiment Name</td>\n",
              "      <td id=\"T_4271d_row13_col1\" class=\"data row13 col1\" >anomaly-default-name</td>\n",
              "    </tr>\n",
              "    <tr>\n",
              "      <th id=\"T_4271d_level0_row14\" class=\"row_heading level0 row14\" >14</th>\n",
              "      <td id=\"T_4271d_row14_col0\" class=\"data row14 col0\" >USI</td>\n",
              "      <td id=\"T_4271d_row14_col1\" class=\"data row14 col1\" >9279</td>\n",
              "    </tr>\n",
              "  </tbody>\n",
              "</table>\n"
            ],
            "text/plain": [
              "<pandas.io.formats.style.Styler at 0x7b7ea12fad90>"
            ]
          },
          "metadata": {},
          "output_type": "display_data"
        },
        {
          "data": {
            "text/html": [],
            "text/plain": [
              "<IPython.core.display.HTML object>"
            ]
          },
          "metadata": {},
          "output_type": "display_data"
        },
        {
          "data": {
            "text/html": [],
            "text/plain": [
              "<IPython.core.display.HTML object>"
            ]
          },
          "metadata": {},
          "output_type": "display_data"
        },
        {
          "data": {
            "application/vnd.jupyter.widget-view+json": {
              "model_id": "23ffb1dac3bf46d0acb1c30473f201ea",
              "version_major": 2,
              "version_minor": 0
            },
            "text/plain": [
              "Processing:   0%|          | 0/3 [00:00<?, ?it/s]"
            ]
          },
          "metadata": {
            "application/vnd.jupyter.widget-view+json": {
              "colab": {
                "custom_widget_manager": {
                  "url": "https://ssl.gstatic.com/colaboratory-static/widgets/colab-cdn-widget-manager/2b70e893a8ba7c0f/manager.min.js"
                }
              }
            }
          },
          "output_type": "display_data"
        },
        {
          "data": {
            "text/html": [],
            "text/plain": [
              "<IPython.core.display.HTML object>"
            ]
          },
          "metadata": {},
          "output_type": "display_data"
        },
        {
          "name": "stdout",
          "output_type": "stream",
          "text": [
            "        y_pred  Anomaly  Anomaly_Score\n",
            "date                                  \n",
            "3596 -1.451279        0      -0.048680\n",
            "3597 -1.269881        0      -0.093860\n",
            "3598 -0.674810        0      -0.120213\n",
            "3599 -0.825606        0      -0.107111\n",
            "3600 -0.486940        0      -0.112709\n"
          ]
        }
      ],
      "source": [
        "predictions = pd.DataFrame(result['Pycaret']['predict'])\n",
        "\n",
        "anom_exp = anomaly.setup(data=predictions, normalize=True)\n",
        "anomaly_model = anomaly.create_model('iforest')\n",
        "anomalies = anomaly.predict_model(anomaly_model, data=predictions)\n",
        "\n",
        "anomalies['date'] = X_test['date'].index\n",
        "anomalies.set_index('date', inplace=True)\n",
        "\n",
        "print(anomalies.head())"
      ]
    },
    {
      "cell_type": "markdown",
      "metadata": {},
      "source": [
        "Mark anomaly values visually."
      ]
    },
    {
      "cell_type": "code",
      "execution_count": 36,
      "metadata": {
        "colab": {
          "base_uri": "https://localhost:8080/",
          "height": 500
        },
        "id": "hGpyqQThDFfP",
        "outputId": "654e00d6-ade7-40aa-f2c0-5265b087b13d"
      },
      "outputs": [
        {
          "data": {
            "image/png": "[encoded data removed]",
            "text/plain": [
              "<Figure size 1000x500 with 1 Axes>"
            ]
          },
          "metadata": {},
          "output_type": "display_data"
        }
      ],
      "source": [
        "plt.figure(figsize=(10, 5))\n",
        "plt.plot(X_test['date'].index, X_test['value'], label='Correct Values')\n",
        "plt.plot(X_test['date'].index, predictions, label='Predicted Values')\n",
        "plt.plot(anomalies[anomalies['Anomaly'] == 1].index, X_test[anomalies['Anomaly'] == 1]['value'], 'ro', label='Anomalies')\n",
        "plt.xlabel('Index')\n",
        "plt.ylabel('Value')\n",
        "plt.title('BTC cost in USD')\n",
        "plt.legend()\n",
        "plt.show()"
      ]
    }
  ],
  "metadata": {
    "colab": {
      "provenance": []
    },
    "kernelspec": {
      "display_name": "Python 3",
      "name": "python3"
    },
    "language_info": {
      "name": "python"
    },
    "widgets": {
      "application/vnd.jupyter.widget-state+json": {
        "0f6f0628cc77452f9adf8b17ae93b0b2": {
          "model_module": "@jupyter-widgets/controls",
          "model_module_version": "1.5.0",
          "model_name": "DescriptionStyleModel",
          "state": {
            "_model_module": "@jupyter-widgets/controls",
            "_model_module_version": "1.5.0",
            "_model_name": "DescriptionStyleModel",
            "_view_count": null,
            "_view_module": "@jupyter-widgets/base",
            "_view_module_version": "1.2.0",
            "_view_name": "StyleView",
            "description_width": ""
          }
        },
        "141f86f9996c4cb1826f7141b8edd51e": {
          "model_module": "@jupyter-widgets/controls",
          "model_module_version": "1.5.0",
          "model_name": "HTMLModel",
          "state": {
            "_dom_classes": [],
            "_model_module": "@jupyter-widgets/controls",
            "_model_module_version": "1.5.0",
            "_model_name": "HTMLModel",
            "_view_count": null,
            "_view_module": "@jupyter-widgets/controls",
            "_view_module_version": "1.5.0",
            "_view_name": "HTMLView",
            "description": "",
            "description_tooltip": null,
            "layout": "IPY_MODEL_c2fc6163726d4a37810cf615abcf3149",
            "placeholder": "​",
            "style": "IPY_MODEL_8f4a731535a847c6866e0115500844e4",
            "value": "Processing:   0%"
          }
        },
        "18277101a33e415bbd13bd5787d435ef": {
          "model_module": "@jupyter-widgets/base",
          "model_module_version": "1.2.0",
          "model_name": "LayoutModel",
          "state": {
            "_model_module": "@jupyter-widgets/base",
            "_model_module_version": "1.2.0",
            "_model_name": "LayoutModel",
            "_view_count": null,
            "_view_module": "@jupyter-widgets/base",
            "_view_module_version": "1.2.0",
            "_view_name": "LayoutView",
            "align_content": null,
            "align_items": null,
            "align_self": null,
            "border": null,
            "bottom": null,
            "display": null,
            "flex": null,
            "flex_flow": null,
            "grid_area": null,
            "grid_auto_columns": null,
            "grid_auto_flow": null,
            "grid_auto_rows": null,
            "grid_column": null,
            "grid_gap": null,
            "grid_row": null,
            "grid_template_areas": null,
            "grid_template_columns": null,
            "grid_template_rows": null,
            "height": null,
            "justify_content": null,
            "justify_items": null,
            "left": null,
            "margin": null,
            "max_height": null,
            "max_width": null,
            "min_height": null,
            "min_width": null,
            "object_fit": null,
            "object_position": null,
            "order": null,
            "overflow": null,
            "overflow_x": null,
            "overflow_y": null,
            "padding": null,
            "right": null,
            "top": null,
            "visibility": null,
            "width": null
          }
        },
        "22fb403606b54585bf0f292d929a7760": {
          "model_module": "@jupyter-widgets/base",
          "model_module_version": "1.2.0",
          "model_name": "LayoutModel",
          "state": {
            "_model_module": "@jupyter-widgets/base",
            "_model_module_version": "1.2.0",
            "_model_name": "LayoutModel",
            "_view_count": null,
            "_view_module": "@jupyter-widgets/base",
            "_view_module_version": "1.2.0",
            "_view_name": "LayoutView",
            "align_content": null,
            "align_items": null,
            "align_self": null,
            "border": null,
            "bottom": null,
            "display": null,
            "flex": null,
            "flex_flow": null,
            "grid_area": null,
            "grid_auto_columns": null,
            "grid_auto_flow": null,
            "grid_auto_rows": null,
            "grid_column": null,
            "grid_gap": null,
            "grid_row": null,
            "grid_template_areas": null,
            "grid_template_columns": null,
            "grid_template_rows": null,
            "height": null,
            "justify_content": null,
            "justify_items": null,
            "left": null,
            "margin": null,
            "max_height": null,
            "max_width": null,
            "min_height": null,
            "min_width": null,
            "object_fit": null,
            "object_position": null,
            "order": null,
            "overflow": null,
            "overflow_x": null,
            "overflow_y": null,
            "padding": null,
            "right": null,
            "top": null,
            "visibility": null,
            "width": null
          }
        },
        "23ffb1dac3bf46d0acb1c30473f201ea": {
          "model_module": "@jupyter-widgets/controls",
          "model_module_version": "1.5.0",
          "model_name": "HBoxModel",
          "state": {
            "_dom_classes": [],
            "_model_module": "@jupyter-widgets/controls",
            "_model_module_version": "1.5.0",
            "_model_name": "HBoxModel",
            "_view_count": null,
            "_view_module": "@jupyter-widgets/controls",
            "_view_module_version": "1.5.0",
            "_view_name": "HBoxView",
            "box_style": "",
            "children": [
              "IPY_MODEL_141f86f9996c4cb1826f7141b8edd51e",
              "IPY_MODEL_844f510e60b64432a188069fba48a040",
              "IPY_MODEL_4c615c4c85f149879ffe42c7d4c971a3"
            ],
            "layout": "IPY_MODEL_c5d93d48c7304ef5a48cd2c391eea309"
          }
        },
        "3196e6bfaae441c7a4c5a9a6d76ca7b9": {
          "model_module": "@jupyter-widgets/base",
          "model_module_version": "1.2.0",
          "model_name": "LayoutModel",
          "state": {
            "_model_module": "@jupyter-widgets/base",
            "_model_module_version": "1.2.0",
            "_model_name": "LayoutModel",
            "_view_count": null,
            "_view_module": "@jupyter-widgets/base",
            "_view_module_version": "1.2.0",
            "_view_name": "LayoutView",
            "align_content": null,
            "align_items": null,
            "align_self": null,
            "border": null,
            "bottom": null,
            "display": null,
            "flex": null,
            "flex_flow": null,
            "grid_area": null,
            "grid_auto_columns": null,
            "grid_auto_flow": null,
            "grid_auto_rows": null,
            "grid_column": null,
            "grid_gap": null,
            "grid_row": null,
            "grid_template_areas": null,
            "grid_template_columns": null,
            "grid_template_rows": null,
            "height": null,
            "justify_content": null,
            "justify_items": null,
            "left": null,
            "margin": null,
            "max_height": null,
            "max_width": null,
            "min_height": null,
            "min_width": null,
            "object_fit": null,
            "object_position": null,
            "order": null,
            "overflow": null,
            "overflow_x": null,
            "overflow_y": null,
            "padding": null,
            "right": null,
            "top": null,
            "visibility": null,
            "width": null
          }
        },
        "347a5f462e1949b78880d060d6ced64c": {
          "model_module": "@jupyter-widgets/controls",
          "model_module_version": "1.5.0",
          "model_name": "DescriptionStyleModel",
          "state": {
            "_model_module": "@jupyter-widgets/controls",
            "_model_module_version": "1.5.0",
            "_model_name": "DescriptionStyleModel",
            "_view_count": null,
            "_view_module": "@jupyter-widgets/base",
            "_view_module_version": "1.2.0",
            "_view_name": "StyleView",
            "description_width": ""
          }
        },
        "3d23ccc7aa8a42c89fd2fddee016c739": {
          "model_module": "@jupyter-widgets/controls",
          "model_module_version": "1.5.0",
          "model_name": "HBoxModel",
          "state": {
            "_dom_classes": [],
            "_model_module": "@jupyter-widgets/controls",
            "_model_module_version": "1.5.0",
            "_model_name": "HBoxModel",
            "_view_count": null,
            "_view_module": "@jupyter-widgets/controls",
            "_view_module_version": "1.5.0",
            "_view_name": "HBoxView",
            "box_style": "",
            "children": [
              "IPY_MODEL_57ac7a0588f74e5e9378f16c6978836c",
              "IPY_MODEL_73f7a5a09c794980b690bedc98751520",
              "IPY_MODEL_a94b9038be714cb88adb8f4a073e69ce"
            ],
            "layout": "IPY_MODEL_8cc8ac08cddd4bcdbdae1cd8af33320f"
          }
        },
        "437ee949893142719078b1f31291e61c": {
          "model_module": "@jupyter-widgets/base",
          "model_module_version": "1.2.0",
          "model_name": "LayoutModel",
          "state": {
            "_model_module": "@jupyter-widgets/base",
            "_model_module_version": "1.2.0",
            "_model_name": "LayoutModel",
            "_view_count": null,
            "_view_module": "@jupyter-widgets/base",
            "_view_module_version": "1.2.0",
            "_view_name": "LayoutView",
            "align_content": null,
            "align_items": null,
            "align_self": null,
            "border": null,
            "bottom": null,
            "display": null,
            "flex": null,
            "flex_flow": null,
            "grid_area": null,
            "grid_auto_columns": null,
            "grid_auto_flow": null,
            "grid_auto_rows": null,
            "grid_column": null,
            "grid_gap": null,
            "grid_row": null,
            "grid_template_areas": null,
            "grid_template_columns": null,
            "grid_template_rows": null,
            "height": null,
            "justify_content": null,
            "justify_items": null,
            "left": null,
            "margin": null,
            "max_height": null,
            "max_width": null,
            "min_height": null,
            "min_width": null,
            "object_fit": null,
            "object_position": null,
            "order": null,
            "overflow": null,
            "overflow_x": null,
            "overflow_y": null,
            "padding": null,
            "right": null,
            "top": null,
            "visibility": null,
            "width": null
          }
        },
        "45d336485e1e450db78c5f063a9c5ab4": {
          "model_module": "@jupyter-widgets/controls",
          "model_module_version": "1.5.0",
          "model_name": "DescriptionStyleModel",
          "state": {
            "_model_module": "@jupyter-widgets/controls",
            "_model_module_version": "1.5.0",
            "_model_name": "DescriptionStyleModel",
            "_view_count": null,
            "_view_module": "@jupyter-widgets/base",
            "_view_module_version": "1.2.0",
            "_view_name": "StyleView",
            "description_width": ""
          }
        },
        "4c615c4c85f149879ffe42c7d4c971a3": {
          "model_module": "@jupyter-widgets/controls",
          "model_module_version": "1.5.0",
          "model_name": "HTMLModel",
          "state": {
            "_dom_classes": [],
            "_model_module": "@jupyter-widgets/controls",
            "_model_module_version": "1.5.0",
            "_model_name": "HTMLModel",
            "_view_count": null,
            "_view_module": "@jupyter-widgets/controls",
            "_view_module_version": "1.5.0",
            "_view_name": "HTMLView",
            "description": "",
            "description_tooltip": null,
            "layout": "IPY_MODEL_18277101a33e415bbd13bd5787d435ef",
            "placeholder": "​",
            "style": "IPY_MODEL_0f6f0628cc77452f9adf8b17ae93b0b2",
            "value": " 0/3 [00:00&lt;?, ?it/s]"
          }
        },
        "556ca344338e4e24b27efe3a3448bc6a": {
          "model_module": "@jupyter-widgets/base",
          "model_module_version": "1.2.0",
          "model_name": "LayoutModel",
          "state": {
            "_model_module": "@jupyter-widgets/base",
            "_model_module_version": "1.2.0",
            "_model_name": "LayoutModel",
            "_view_count": null,
            "_view_module": "@jupyter-widgets/base",
            "_view_module_version": "1.2.0",
            "_view_name": "LayoutView",
            "align_content": null,
            "align_items": null,
            "align_self": null,
            "border": null,
            "bottom": null,
            "display": null,
            "flex": null,
            "flex_flow": null,
            "grid_area": null,
            "grid_auto_columns": null,
            "grid_auto_flow": null,
            "grid_auto_rows": null,
            "grid_column": null,
            "grid_gap": null,
            "grid_row": null,
            "grid_template_areas": null,
            "grid_template_columns": null,
            "grid_template_rows": null,
            "height": null,
            "justify_content": null,
            "justify_items": null,
            "left": null,
            "margin": null,
            "max_height": null,
            "max_width": null,
            "min_height": null,
            "min_width": null,
            "object_fit": null,
            "object_position": null,
            "order": null,
            "overflow": null,
            "overflow_x": null,
            "overflow_y": null,
            "padding": null,
            "right": null,
            "top": null,
            "visibility": null,
            "width": null
          }
        },
        "57ac7a0588f74e5e9378f16c6978836c": {
          "model_module": "@jupyter-widgets/controls",
          "model_module_version": "1.5.0",
          "model_name": "HTMLModel",
          "state": {
            "_dom_classes": [],
            "_model_module": "@jupyter-widgets/controls",
            "_model_module_version": "1.5.0",
            "_model_name": "HTMLModel",
            "_view_count": null,
            "_view_module": "@jupyter-widgets/controls",
            "_view_module_version": "1.5.0",
            "_view_name": "HTMLView",
            "description": "",
            "description_tooltip": null,
            "layout": "IPY_MODEL_22fb403606b54585bf0f292d929a7760",
            "placeholder": "​",
            "style": "IPY_MODEL_45d336485e1e450db78c5f063a9c5ab4",
            "value": "Processing: 100%"
          }
        },
        "5e87cd23eca446bb8cdf0881431b8c7b": {
          "model_module": "@jupyter-widgets/controls",
          "model_module_version": "1.5.0",
          "model_name": "ProgressStyleModel",
          "state": {
            "_model_module": "@jupyter-widgets/controls",
            "_model_module_version": "1.5.0",
            "_model_name": "ProgressStyleModel",
            "_view_count": null,
            "_view_module": "@jupyter-widgets/base",
            "_view_module_version": "1.2.0",
            "_view_name": "StyleView",
            "bar_color": null,
            "description_width": ""
          }
        },
        "5ee70e5d34f44223af725ef89ad38453": {
          "model_module": "@jupyter-widgets/controls",
          "model_module_version": "1.5.0",
          "model_name": "HTMLModel",
          "state": {
            "_dom_classes": [],
            "_model_module": "@jupyter-widgets/controls",
            "_model_module_version": "1.5.0",
            "_model_name": "HTMLModel",
            "_view_count": null,
            "_view_module": "@jupyter-widgets/controls",
            "_view_module_version": "1.5.0",
            "_view_name": "HTMLView",
            "description": "",
            "description_tooltip": null,
            "layout": "IPY_MODEL_437ee949893142719078b1f31291e61c",
            "placeholder": "​",
            "style": "IPY_MODEL_882093221482431f978ea5006646a239",
            "value": "Processing:  97%"
          }
        },
        "6cebb077fef54d89bf694f607fd2066f": {
          "model_module": "@jupyter-widgets/controls",
          "model_module_version": "1.5.0",
          "model_name": "ProgressStyleModel",
          "state": {
            "_model_module": "@jupyter-widgets/controls",
            "_model_module_version": "1.5.0",
            "_model_name": "ProgressStyleModel",
            "_view_count": null,
            "_view_module": "@jupyter-widgets/base",
            "_view_module_version": "1.2.0",
            "_view_name": "StyleView",
            "bar_color": null,
            "description_width": ""
          }
        },
        "6e21450ba4ab4c28a7eb1a7eee688372": {
          "model_module": "@jupyter-widgets/controls",
          "model_module_version": "1.5.0",
          "model_name": "HBoxModel",
          "state": {
            "_dom_classes": [],
            "_model_module": "@jupyter-widgets/controls",
            "_model_module_version": "1.5.0",
            "_model_name": "HBoxModel",
            "_view_count": null,
            "_view_module": "@jupyter-widgets/controls",
            "_view_module_version": "1.5.0",
            "_view_name": "HBoxView",
            "box_style": "",
            "children": [
              "IPY_MODEL_5ee70e5d34f44223af725ef89ad38453",
              "IPY_MODEL_98e9ca023c5348fe93b3b20e6c6ecd81",
              "IPY_MODEL_bd938c00421246d28ed6d36b1f4f47b4"
            ],
            "layout": "IPY_MODEL_82a5cb011a7d47fba52013fac2ffe1e2"
          }
        },
        "723b1d8785a74ca099280fd0faf7b018": {
          "model_module": "@jupyter-widgets/base",
          "model_module_version": "1.2.0",
          "model_name": "LayoutModel",
          "state": {
            "_model_module": "@jupyter-widgets/base",
            "_model_module_version": "1.2.0",
            "_model_name": "LayoutModel",
            "_view_count": null,
            "_view_module": "@jupyter-widgets/base",
            "_view_module_version": "1.2.0",
            "_view_name": "LayoutView",
            "align_content": null,
            "align_items": null,
            "align_self": null,
            "border": null,
            "bottom": null,
            "display": null,
            "flex": null,
            "flex_flow": null,
            "grid_area": null,
            "grid_auto_columns": null,
            "grid_auto_flow": null,
            "grid_auto_rows": null,
            "grid_column": null,
            "grid_gap": null,
            "grid_row": null,
            "grid_template_areas": null,
            "grid_template_columns": null,
            "grid_template_rows": null,
            "height": null,
            "justify_content": null,
            "justify_items": null,
            "left": null,
            "margin": null,
            "max_height": null,
            "max_width": null,
            "min_height": null,
            "min_width": null,
            "object_fit": null,
            "object_position": null,
            "order": null,
            "overflow": null,
            "overflow_x": null,
            "overflow_y": null,
            "padding": null,
            "right": null,
            "top": null,
            "visibility": null,
            "width": null
          }
        },
        "73f7a5a09c794980b690bedc98751520": {
          "model_module": "@jupyter-widgets/controls",
          "model_module_version": "1.5.0",
          "model_name": "FloatProgressModel",
          "state": {
            "_dom_classes": [],
            "_model_module": "@jupyter-widgets/controls",
            "_model_module_version": "1.5.0",
            "_model_name": "FloatProgressModel",
            "_view_count": null,
            "_view_module": "@jupyter-widgets/controls",
            "_view_module_version": "1.5.0",
            "_view_name": "ProgressView",
            "bar_style": "",
            "description": "",
            "description_tooltip": null,
            "layout": "IPY_MODEL_556ca344338e4e24b27efe3a3448bc6a",
            "max": 4,
            "min": 0,
            "orientation": "horizontal",
            "style": "IPY_MODEL_6cebb077fef54d89bf694f607fd2066f",
            "value": 4
          }
        },
        "79c766393b214680b532af4ca44a1c90": {
          "model_module": "@jupyter-widgets/base",
          "model_module_version": "1.2.0",
          "model_name": "LayoutModel",
          "state": {
            "_model_module": "@jupyter-widgets/base",
            "_model_module_version": "1.2.0",
            "_model_name": "LayoutModel",
            "_view_count": null,
            "_view_module": "@jupyter-widgets/base",
            "_view_module_version": "1.2.0",
            "_view_name": "LayoutView",
            "align_content": null,
            "align_items": null,
            "align_self": null,
            "border": null,
            "bottom": null,
            "display": null,
            "flex": null,
            "flex_flow": null,
            "grid_area": null,
            "grid_auto_columns": null,
            "grid_auto_flow": null,
            "grid_auto_rows": null,
            "grid_column": null,
            "grid_gap": null,
            "grid_row": null,
            "grid_template_areas": null,
            "grid_template_columns": null,
            "grid_template_rows": null,
            "height": null,
            "justify_content": null,
            "justify_items": null,
            "left": null,
            "margin": null,
            "max_height": null,
            "max_width": null,
            "min_height": null,
            "min_width": null,
            "object_fit": null,
            "object_position": null,
            "order": null,
            "overflow": null,
            "overflow_x": null,
            "overflow_y": null,
            "padding": null,
            "right": null,
            "top": null,
            "visibility": null,
            "width": null
          }
        },
        "7afa6980e504410f897ab723a83711a7": {
          "model_module": "@jupyter-widgets/base",
          "model_module_version": "1.2.0",
          "model_name": "LayoutModel",
          "state": {
            "_model_module": "@jupyter-widgets/base",
            "_model_module_version": "1.2.0",
            "_model_name": "LayoutModel",
            "_view_count": null,
            "_view_module": "@jupyter-widgets/base",
            "_view_module_version": "1.2.0",
            "_view_name": "LayoutView",
            "align_content": null,
            "align_items": null,
            "align_self": null,
            "border": null,
            "bottom": null,
            "display": null,
            "flex": null,
            "flex_flow": null,
            "grid_area": null,
            "grid_auto_columns": null,
            "grid_auto_flow": null,
            "grid_auto_rows": null,
            "grid_column": null,
            "grid_gap": null,
            "grid_row": null,
            "grid_template_areas": null,
            "grid_template_columns": null,
            "grid_template_rows": null,
            "height": null,
            "justify_content": null,
            "justify_items": null,
            "left": null,
            "margin": null,
            "max_height": null,
            "max_width": null,
            "min_height": null,
            "min_width": null,
            "object_fit": null,
            "object_position": null,
            "order": null,
            "overflow": null,
            "overflow_x": null,
            "overflow_y": null,
            "padding": null,
            "right": null,
            "top": null,
            "visibility": null,
            "width": null
          }
        },
        "82a5cb011a7d47fba52013fac2ffe1e2": {
          "model_module": "@jupyter-widgets/base",
          "model_module_version": "1.2.0",
          "model_name": "LayoutModel",
          "state": {
            "_model_module": "@jupyter-widgets/base",
            "_model_module_version": "1.2.0",
            "_model_name": "LayoutModel",
            "_view_count": null,
            "_view_module": "@jupyter-widgets/base",
            "_view_module_version": "1.2.0",
            "_view_name": "LayoutView",
            "align_content": null,
            "align_items": null,
            "align_self": null,
            "border": null,
            "bottom": null,
            "display": null,
            "flex": null,
            "flex_flow": null,
            "grid_area": null,
            "grid_auto_columns": null,
            "grid_auto_flow": null,
            "grid_auto_rows": null,
            "grid_column": null,
            "grid_gap": null,
            "grid_row": null,
            "grid_template_areas": null,
            "grid_template_columns": null,
            "grid_template_rows": null,
            "height": null,
            "justify_content": null,
            "justify_items": null,
            "left": null,
            "margin": null,
            "max_height": null,
            "max_width": null,
            "min_height": null,
            "min_width": null,
            "object_fit": null,
            "object_position": null,
            "order": null,
            "overflow": null,
            "overflow_x": null,
            "overflow_y": null,
            "padding": null,
            "right": null,
            "top": null,
            "visibility": null,
            "width": null
          }
        },
        "844f510e60b64432a188069fba48a040": {
          "model_module": "@jupyter-widgets/controls",
          "model_module_version": "1.5.0",
          "model_name": "FloatProgressModel",
          "state": {
            "_dom_classes": [],
            "_model_module": "@jupyter-widgets/controls",
            "_model_module_version": "1.5.0",
            "_model_name": "FloatProgressModel",
            "_view_count": null,
            "_view_module": "@jupyter-widgets/controls",
            "_view_module_version": "1.5.0",
            "_view_name": "ProgressView",
            "bar_style": "",
            "description": "",
            "description_tooltip": null,
            "layout": "IPY_MODEL_723b1d8785a74ca099280fd0faf7b018",
            "max": 3,
            "min": 0,
            "orientation": "horizontal",
            "style": "IPY_MODEL_5e87cd23eca446bb8cdf0881431b8c7b",
            "value": 3
          }
        },
        "882093221482431f978ea5006646a239": {
          "model_module": "@jupyter-widgets/controls",
          "model_module_version": "1.5.0",
          "model_name": "DescriptionStyleModel",
          "state": {
            "_model_module": "@jupyter-widgets/controls",
            "_model_module_version": "1.5.0",
            "_model_name": "DescriptionStyleModel",
            "_view_count": null,
            "_view_module": "@jupyter-widgets/base",
            "_view_module_version": "1.2.0",
            "_view_name": "StyleView",
            "description_width": ""
          }
        },
        "8cc8ac08cddd4bcdbdae1cd8af33320f": {
          "model_module": "@jupyter-widgets/base",
          "model_module_version": "1.2.0",
          "model_name": "LayoutModel",
          "state": {
            "_model_module": "@jupyter-widgets/base",
            "_model_module_version": "1.2.0",
            "_model_name": "LayoutModel",
            "_view_count": null,
            "_view_module": "@jupyter-widgets/base",
            "_view_module_version": "1.2.0",
            "_view_name": "LayoutView",
            "align_content": null,
            "align_items": null,
            "align_self": null,
            "border": null,
            "bottom": null,
            "display": null,
            "flex": null,
            "flex_flow": null,
            "grid_area": null,
            "grid_auto_columns": null,
            "grid_auto_flow": null,
            "grid_auto_rows": null,
            "grid_column": null,
            "grid_gap": null,
            "grid_row": null,
            "grid_template_areas": null,
            "grid_template_columns": null,
            "grid_template_rows": null,
            "height": null,
            "justify_content": null,
            "justify_items": null,
            "left": null,
            "margin": null,
            "max_height": null,
            "max_width": null,
            "min_height": null,
            "min_width": null,
            "object_fit": null,
            "object_position": null,
            "order": null,
            "overflow": null,
            "overflow_x": null,
            "overflow_y": null,
            "padding": null,
            "right": null,
            "top": null,
            "visibility": "hidden",
            "width": null
          }
        },
        "8f4a731535a847c6866e0115500844e4": {
          "model_module": "@jupyter-widgets/controls",
          "model_module_version": "1.5.0",
          "model_name": "DescriptionStyleModel",
          "state": {
            "_model_module": "@jupyter-widgets/controls",
            "_model_module_version": "1.5.0",
            "_model_name": "DescriptionStyleModel",
            "_view_count": null,
            "_view_module": "@jupyter-widgets/base",
            "_view_module_version": "1.2.0",
            "_view_name": "StyleView",
            "description_width": ""
          }
        },
        "98e9ca023c5348fe93b3b20e6c6ecd81": {
          "model_module": "@jupyter-widgets/controls",
          "model_module_version": "1.5.0",
          "model_name": "FloatProgressModel",
          "state": {
            "_dom_classes": [],
            "_model_module": "@jupyter-widgets/controls",
            "_model_module_version": "1.5.0",
            "_model_name": "FloatProgressModel",
            "_view_count": null,
            "_view_module": "@jupyter-widgets/controls",
            "_view_module_version": "1.5.0",
            "_view_name": "ProgressView",
            "bar_style": "danger",
            "description": "",
            "description_tooltip": null,
            "layout": "IPY_MODEL_7afa6980e504410f897ab723a83711a7",
            "max": 117,
            "min": 0,
            "orientation": "horizontal",
            "style": "IPY_MODEL_e7a79ef88e6940a7a55ec78ae5d9b7af",
            "value": 113
          }
        },
        "a94b9038be714cb88adb8f4a073e69ce": {
          "model_module": "@jupyter-widgets/controls",
          "model_module_version": "1.5.0",
          "model_name": "HTMLModel",
          "state": {
            "_dom_classes": [],
            "_model_module": "@jupyter-widgets/controls",
            "_model_module_version": "1.5.0",
            "_model_name": "HTMLModel",
            "_view_count": null,
            "_view_module": "@jupyter-widgets/controls",
            "_view_module_version": "1.5.0",
            "_view_name": "HTMLView",
            "description": "",
            "description_tooltip": null,
            "layout": "IPY_MODEL_79c766393b214680b532af4ca44a1c90",
            "placeholder": "​",
            "style": "IPY_MODEL_347a5f462e1949b78880d060d6ced64c",
            "value": " 4/4 [00:01&lt;00:00,  3.00it/s]"
          }
        },
        "bd938c00421246d28ed6d36b1f4f47b4": {
          "model_module": "@jupyter-widgets/controls",
          "model_module_version": "1.5.0",
          "model_name": "HTMLModel",
          "state": {
            "_dom_classes": [],
            "_model_module": "@jupyter-widgets/controls",
            "_model_module_version": "1.5.0",
            "_model_name": "HTMLModel",
            "_view_count": null,
            "_view_module": "@jupyter-widgets/controls",
            "_view_module_version": "1.5.0",
            "_view_name": "HTMLView",
            "description": "",
            "description_tooltip": null,
            "layout": "IPY_MODEL_3196e6bfaae441c7a4c5a9a6d76ca7b9",
            "placeholder": "​",
            "style": "IPY_MODEL_efee454c15864d49b8acb7b821fa2c31",
            "value": " 113/117 [01:07&lt;00:00,  4.64it/s]"
          }
        },
        "c2fc6163726d4a37810cf615abcf3149": {
          "model_module": "@jupyter-widgets/base",
          "model_module_version": "1.2.0",
          "model_name": "LayoutModel",
          "state": {
            "_model_module": "@jupyter-widgets/base",
            "_model_module_version": "1.2.0",
            "_model_name": "LayoutModel",
            "_view_count": null,
            "_view_module": "@jupyter-widgets/base",
            "_view_module_version": "1.2.0",
            "_view_name": "LayoutView",
            "align_content": null,
            "align_items": null,
            "align_self": null,
            "border": null,
            "bottom": null,
            "display": null,
            "flex": null,
            "flex_flow": null,
            "grid_area": null,
            "grid_auto_columns": null,
            "grid_auto_flow": null,
            "grid_auto_rows": null,
            "grid_column": null,
            "grid_gap": null,
            "grid_row": null,
            "grid_template_areas": null,
            "grid_template_columns": null,
            "grid_template_rows": null,
            "height": null,
            "justify_content": null,
            "justify_items": null,
            "left": null,
            "margin": null,
            "max_height": null,
            "max_width": null,
            "min_height": null,
            "min_width": null,
            "object_fit": null,
            "object_position": null,
            "order": null,
            "overflow": null,
            "overflow_x": null,
            "overflow_y": null,
            "padding": null,
            "right": null,
            "top": null,
            "visibility": null,
            "width": null
          }
        },
        "c5d93d48c7304ef5a48cd2c391eea309": {
          "model_module": "@jupyter-widgets/base",
          "model_module_version": "1.2.0",
          "model_name": "LayoutModel",
          "state": {
            "_model_module": "@jupyter-widgets/base",
            "_model_module_version": "1.2.0",
            "_model_name": "LayoutModel",
            "_view_count": null,
            "_view_module": "@jupyter-widgets/base",
            "_view_module_version": "1.2.0",
            "_view_name": "LayoutView",
            "align_content": null,
            "align_items": null,
            "align_self": null,
            "border": null,
            "bottom": null,
            "display": null,
            "flex": null,
            "flex_flow": null,
            "grid_area": null,
            "grid_auto_columns": null,
            "grid_auto_flow": null,
            "grid_auto_rows": null,
            "grid_column": null,
            "grid_gap": null,
            "grid_row": null,
            "grid_template_areas": null,
            "grid_template_columns": null,
            "grid_template_rows": null,
            "height": null,
            "justify_content": null,
            "justify_items": null,
            "left": null,
            "margin": null,
            "max_height": null,
            "max_width": null,
            "min_height": null,
            "min_width": null,
            "object_fit": null,
            "object_position": null,
            "order": null,
            "overflow": null,
            "overflow_x": null,
            "overflow_y": null,
            "padding": null,
            "right": null,
            "top": null,
            "visibility": "hidden",
            "width": null
          }
        },
        "e7a79ef88e6940a7a55ec78ae5d9b7af": {
          "model_module": "@jupyter-widgets/controls",
          "model_module_version": "1.5.0",
          "model_name": "ProgressStyleModel",
          "state": {
            "_model_module": "@jupyter-widgets/controls",
            "_model_module_version": "1.5.0",
            "_model_name": "ProgressStyleModel",
            "_view_count": null,
            "_view_module": "@jupyter-widgets/base",
            "_view_module_version": "1.2.0",
            "_view_name": "StyleView",
            "bar_color": null,
            "description_width": ""
          }
        },
        "efee454c15864d49b8acb7b821fa2c31": {
          "model_module": "@jupyter-widgets/controls",
          "model_module_version": "1.5.0",
          "model_name": "DescriptionStyleModel",
          "state": {
            "_model_module": "@jupyter-widgets/controls",
            "_model_module_version": "1.5.0",
            "_model_name": "DescriptionStyleModel",
            "_view_count": null,
            "_view_module": "@jupyter-widgets/base",
            "_view_module_version": "1.2.0",
            "_view_name": "StyleView",
            "description_width": ""
          }
        }
      }
    }
  },
  "nbformat": 4,
  "nbformat_minor": 0
}
