{
  "nbformat": 4,
  "nbformat_minor": 0,
  "metadata": {
    "colab": {
      "provenance": [],
      "authorship_tag": "ABX9TyMhszA8ixR01De0xFdMBbSJ",
      "include_colab_link": true
    },
    "kernelspec": {
      "name": "python3",
      "display_name": "Python 3"
    },
    "language_info": {
      "name": "python"
    }
  },
  "cells": [
    {
      "cell_type": "markdown",
      "metadata": {
        "id": "view-in-github",
        "colab_type": "text"
      },
      "source": [
        "<a href=\"https://colab.research.google.com/github/DmitriyShilyayev/DataScienceProjects/blob/main/HW1/HW1.ipynb\" target=\"_parent\"><img src=\"https://colab.research.google.com/assets/colab-badge.svg\" alt=\"Open In Colab\"/></a>"
      ]
    },
    {
      "cell_type": "markdown",
      "source": [
        "Imported random function, required for some tasks."
      ],
      "metadata": {
        "id": "SEEoDqTzLv2S"
      }
    },
    {
      "cell_type": "code",
      "execution_count": 34,
      "metadata": {
        "id": "uODa1Q7XJPuZ"
      },
      "outputs": [],
      "source": [
        "import random"
      ]
    },
    {
      "cell_type": "markdown",
      "source": [
        "Initial function, which allows to run any task from the list."
      ],
      "metadata": {
        "id": "nvyvsbdNL4Zq"
      }
    },
    {
      "cell_type": "code",
      "source": [
        "def init():\n",
        "    print(\"Choose task number to run (1-20).\")\n",
        "    print(\"To exit press 0.\")\n",
        "    task = input(\"Task number: \")\n",
        "    match task:\n",
        "        case \"0\":\n",
        "            exit()\n",
        "        case \"1\":\n",
        "            task1()\n",
        "        case \"2\":\n",
        "            task2()\n",
        "        case \"3\":\n",
        "            task3()\n",
        "        case \"4\":\n",
        "            task4()\n",
        "        case \"5\":\n",
        "            task5()\n",
        "        case \"6\":\n",
        "            task6()\n",
        "        case \"7\":\n",
        "            task7()\n",
        "        case \"8\":\n",
        "            task8()\n",
        "        case \"9\":\n",
        "            task9()\n",
        "        case \"10\":\n",
        "            task10()\n",
        "        case \"11\":\n",
        "            task11()\n",
        "        case \"12\":\n",
        "            task12()\n",
        "        case \"13\":\n",
        "            task13()\n",
        "        case \"14\":\n",
        "            task14()\n",
        "        case \"15\":\n",
        "            task15()\n",
        "        case \"16\":\n",
        "            task16()\n",
        "        case \"17\":\n",
        "            task17()\n",
        "        case \"18\":\n",
        "            task18()\n",
        "        case \"19\":\n",
        "            task19()\n",
        "        case \"20\":\n",
        "            task20()\n",
        "        case _:\n",
        "            print(\"Incorrect value. Try again.\")\n",
        "            init()"
      ],
      "metadata": {
        "id": "Ykctk1HXJsWw"
      },
      "execution_count": 37,
      "outputs": []
    },
    {
      "cell_type": "markdown",
      "source": [
        "Exit function to end the session."
      ],
      "metadata": {
        "id": "EUqeqw2yMB0y"
      }
    },
    {
      "cell_type": "code",
      "source": [
        "def exit():\n",
        "    print(\"Have a good day!.\")"
      ],
      "metadata": {
        "id": "5Ffb-QXwJvbH"
      },
      "execution_count": 5,
      "outputs": []
    },
    {
      "cell_type": "markdown",
      "source": [
        "Helper function to recieve list of numbers from user."
      ],
      "metadata": {
        "id": "bCSquqZ0MHIX"
      }
    },
    {
      "cell_type": "code",
      "source": [
        "def inputNumList():\n",
        "    print(\"Please, enter list of values, one by one.\")\n",
        "    print(\"To end list press 0.\")\n",
        "    valuesList = []\n",
        "    while True:\n",
        "        value = input(\"Enter value: \")\n",
        "        if value.isdigit():\n",
        "            value = int(value)\n",
        "        else:\n",
        "            print(\"Incorect value. Try again.\")\n",
        "            continue\n",
        "        if value == 0:\n",
        "            break\n",
        "        valuesList.append(value)\n",
        "    print(\"Done! Your list: [\" + (\", \".join(str(num) for num in valuesList)) + \"]\")\n",
        "    return valuesList"
      ],
      "metadata": {
        "id": "2zUrzqHuJ1QJ"
      },
      "execution_count": 6,
      "outputs": []
    },
    {
      "cell_type": "markdown",
      "source": [
        "Helper function to summarize list of numbers."
      ],
      "metadata": {
        "id": "aZ_qAhR3MRFE"
      }
    },
    {
      "cell_type": "code",
      "source": [
        "def listSum(list):\n",
        "    sum = 0\n",
        "    for num in list:\n",
        "        sum += num\n",
        "    else:\n",
        "        return sum"
      ],
      "metadata": {
        "id": "jWFNlV3XKGxs"
      },
      "execution_count": 7,
      "outputs": []
    },
    {
      "cell_type": "markdown",
      "source": [
        "Helper function to reverse characters in string."
      ],
      "metadata": {
        "id": "mMukrkA3MkQq"
      }
    },
    {
      "cell_type": "code",
      "source": [
        "def strReverse(str):\n",
        "    return str[::-1]"
      ],
      "metadata": {
        "id": "pItVlfVpKJUk"
      },
      "execution_count": 8,
      "outputs": []
    },
    {
      "cell_type": "markdown",
      "source": [
        "Helper function to multiply two numbers."
      ],
      "metadata": {
        "id": "xQZoLf6eMrK0"
      }
    },
    {
      "cell_type": "code",
      "source": [
        "def multiplyValues(a, b):\n",
        "    return a * b"
      ],
      "metadata": {
        "id": "ZHWqW_8HKL-L"
      },
      "execution_count": 9,
      "outputs": []
    },
    {
      "cell_type": "markdown",
      "source": [
        "Helper function to recieve biggest number from the list."
      ],
      "metadata": {
        "id": "ioWJm5eAMvt9"
      }
    },
    {
      "cell_type": "code",
      "source": [
        "def maxNum(list):\n",
        "    return max(list)"
      ],
      "metadata": {
        "id": "FSbi7vjKKOLU"
      },
      "execution_count": 10,
      "outputs": []
    },
    {
      "cell_type": "markdown",
      "source": [
        "Helper function to check if stiring is palindrome."
      ],
      "metadata": {
        "id": "SrOEDTEcM1R5"
      }
    },
    {
      "cell_type": "code",
      "source": [
        "def isPalindrome(str):\n",
        "    charsFromStr = \"\".join(e for e in str if e.isalnum())\n",
        "    return charsFromStr.lower() == strReverse(charsFromStr.lower())"
      ],
      "metadata": {
        "id": "ME_cRoXTKQjk"
      },
      "execution_count": 11,
      "outputs": []
    },
    {
      "cell_type": "markdown",
      "source": [
        "Helper function to format dictionary."
      ],
      "metadata": {
        "id": "Y1ZUqmoLNFKE"
      }
    },
    {
      "cell_type": "code",
      "source": [
        "def formatDict(dict):\n",
        "    for key, value in dict.items():\n",
        "        print(str(key) + \":\")\n",
        "        print(\"    \" + str(value))"
      ],
      "metadata": {
        "id": "rgK4ZzFmKSd_"
      },
      "execution_count": 12,
      "outputs": []
    },
    {
      "cell_type": "markdown",
      "source": [
        "Task 1:\n",
        "\n",
        "Create a tuple containing 4 different numbers. Display the value of the second element of the tuple.\n",
        "\n",
        "---\n",
        "\n",
        "\n",
        "Time complexity: O(1)"
      ],
      "metadata": {
        "id": "9RjVd4BVNMr1"
      }
    },
    {
      "cell_type": "code",
      "source": [
        "def task1():\n",
        "    print(\"/--------------------------------------/\")\n",
        "    print(\"Task 1:\")\n",
        "    numbers = (\n",
        "        random.randint(1, 100),\n",
        "        random.randint(1, 100),\n",
        "        random.randint(1, 100),\n",
        "        random.randint(1, 100),\n",
        "    )\n",
        "    print(\"Our random tuple: (\" + (\", \".join(str(num) for num in numbers)) + \")\")\n",
        "    print(\"Second item: \" + str(numbers[1]))\n",
        "    print(\"/--------------------------------------/\")\n",
        "    print(\"Time complexity: O(1)\")\n",
        "    print(\"/--------------------------------------/\")\n",
        "    init()"
      ],
      "metadata": {
        "id": "4Cf4nZHFKU2i"
      },
      "execution_count": 40,
      "outputs": []
    },
    {
      "cell_type": "markdown",
      "source": [
        "Task 2:\n",
        "\n",
        "Write a program that accepts a string from the user and outputs the number of characters in that string.\n",
        "\n",
        "---\n",
        "\n",
        "\n",
        "Time complexity: O(1)"
      ],
      "metadata": {
        "id": "8VntoNEkNggj"
      }
    },
    {
      "cell_type": "code",
      "source": [
        "def task2():\n",
        "    print(\"/--------------------------------------/\")\n",
        "    print(\"Task 2:\")\n",
        "    userStr = input(\"Please, enter some string: \")\n",
        "    print(\"String length: \" + str(len(userStr)))\n",
        "    print(\"/--------------------------------------/\")\n",
        "    print(\"Time complexity: O(1)\")\n",
        "    print(\"/--------------------------------------/\")\n",
        "    init()"
      ],
      "metadata": {
        "id": "wR48gopTKfdJ"
      },
      "execution_count": 14,
      "outputs": []
    },
    {
      "cell_type": "markdown",
      "source": [
        "Task 3:\n",
        "\n",
        "Create a dictionary containing information about the student: name, age, course. Display all information about the student on the screen.\n",
        "\n",
        "---\n",
        "\n",
        "\n",
        "Time complexity: O(n)"
      ],
      "metadata": {
        "id": "_WiF93NINkgz"
      }
    },
    {
      "cell_type": "code",
      "source": [
        "def task3():\n",
        "    print(\"/--------------------------------------/\")\n",
        "    print(\"Task 3:\")\n",
        "    studentInfo = {\"name\": \"Dmitriy\", \"age\": 29, \"course\": 1}\n",
        "    print(\"Student Info:\")\n",
        "    print(\"Name: \" + studentInfo[\"name\"])\n",
        "    print(\"Age: \" + str(studentInfo[\"age\"]))\n",
        "    print(\"Course: \" + str(studentInfo[\"course\"]))\n",
        "    print(\"/--------------------------------------/\")\n",
        "    print(\"Time complexity: O(n)\")\n",
        "    print(\"/--------------------------------------/\")\n",
        "    init()"
      ],
      "metadata": {
        "id": "yl6aAbPDKhwF"
      },
      "execution_count": 15,
      "outputs": []
    },
    {
      "cell_type": "markdown",
      "source": [
        "Task 4:\n",
        "\n",
        "Using a loop, create a list containing all integers from 1 to 10 and display it on the screen.\n",
        "\n",
        "---\n",
        "\n",
        "\n",
        "Time complexity: O(n)"
      ],
      "metadata": {
        "id": "2EjzrQxZNqqz"
      }
    },
    {
      "cell_type": "code",
      "source": [
        "def task4():\n",
        "    print(\"/--------------------------------------/\")\n",
        "    print(\"Task 4:\")\n",
        "    numList = []\n",
        "    number = 1\n",
        "    while number <= 10:\n",
        "        numList.append(number)\n",
        "        number += 1\n",
        "    print(\"Our generated list: [\" + (\", \".join(str(num) for num in numList)) + \"]\")\n",
        "    print(\"/--------------------------------------/\")\n",
        "    print(\"Time complexity: O(n)\")\n",
        "    print(\"/--------------------------------------/\")\n",
        "    init()"
      ],
      "metadata": {
        "id": "TMFoRdpSKkGD"
      },
      "execution_count": 16,
      "outputs": []
    },
    {
      "cell_type": "markdown",
      "source": [
        "Task 5:\n",
        "\n",
        "Write a function that takes a list of numbers and returns their sum.\n",
        "\n",
        "---\n",
        "\n",
        "\n",
        "Time complexity: O(n)"
      ],
      "metadata": {
        "id": "dGI5WrP9N2Un"
      }
    },
    {
      "cell_type": "code",
      "source": [
        "def task5():\n",
        "    print(\"/--------------------------------------/\")\n",
        "    print(\"Task 5:\")\n",
        "    userList = inputNumList()\n",
        "    print(\"List summary: \" + str(listSum(userList)))\n",
        "    print(\"/--------------------------------------/\")\n",
        "    print(\"Time complexity: O(n)\")\n",
        "    print(\"/--------------------------------------/\")\n",
        "    init()"
      ],
      "metadata": {
        "id": "QDC4P-BSKn32"
      },
      "execution_count": 17,
      "outputs": []
    },
    {
      "cell_type": "markdown",
      "source": [
        "Task 6:\n",
        "\n",
        "Create a set of 5 different numbers, then add a new number to it and display it on the screen.\n",
        "\n",
        "---\n",
        "\n",
        "\n",
        "Time complexity: O(n^2)"
      ],
      "metadata": {
        "id": "X0lASQCJN8p0"
      }
    },
    {
      "cell_type": "code",
      "source": [
        "def task6():\n",
        "    print(\"/--------------------------------------/\")\n",
        "    print(\"Task 6:\")\n",
        "    numbersSet = set()\n",
        "    while len(numbersSet) < 5:\n",
        "        numbersSet.add(random.randint(1, 100))\n",
        "    print(\"Your set: \" + str(numbersSet))\n",
        "\n",
        "    while len(numbersSet) < 6:\n",
        "        value = input(\"Enter value to add to set: \")\n",
        "        if value.isdigit():\n",
        "            value = int(value)\n",
        "        else:\n",
        "            print(\"Incorect value. Try again.\")\n",
        "            continue\n",
        "        if value in numbersSet:\n",
        "            print(\"This value is already in the set. Try again.\")\n",
        "            continue\n",
        "        else:\n",
        "            numbersSet.add(value)\n",
        "            print(\"This value was added to the set.\")\n",
        "\n",
        "    print(\"Done! Your current set: \" + str(numbersSet))\n",
        "    print(\"/--------------------------------------/\")\n",
        "    print(\"Time complexity: O(n2)\")\n",
        "    print(\"/--------------------------------------/\")\n",
        "    init()"
      ],
      "metadata": {
        "id": "1DY6hmwZKqSS"
      },
      "execution_count": 18,
      "outputs": []
    },
    {
      "cell_type": "markdown",
      "source": [
        "Task 7:\n",
        "\n",
        "Write a program that accepts an integer from the user and displays its square on the screen.\n",
        "\n",
        "---\n",
        "\n",
        "\n",
        "Time complexity: O(1)"
      ],
      "metadata": {
        "id": "_yNRrfY7ORCx"
      }
    },
    {
      "cell_type": "code",
      "source": [
        "def task7():\n",
        "    print(\"/--------------------------------------/\")\n",
        "    print(\"Task 7:\")\n",
        "    while True:\n",
        "        value = input(\"Please, enter integer value: \")\n",
        "        if value.isdigit():\n",
        "            value = int(value)\n",
        "            break\n",
        "        else:\n",
        "            print(\"Incorect value. Try again.\")\n",
        "            continue\n",
        "    print(\"Good job! Your value: \" + str(value))\n",
        "    print(\"/--------------------------------------/\")\n",
        "    print(\"Time complexity: O(1)\")\n",
        "    print(\"/--------------------------------------/\")\n",
        "    init()"
      ],
      "metadata": {
        "id": "3buKJ9PqKsD4"
      },
      "execution_count": 19,
      "outputs": []
    },
    {
      "cell_type": "markdown",
      "source": [
        "Task 8:\n",
        "\n",
        "Create a dictionary with five key-value pairs, where the keys are the names of fruits and the values are their colors. Output the values of all keys.\n",
        "\n",
        "---\n",
        "\n",
        "\n",
        "Time complexity: O(n)"
      ],
      "metadata": {
        "id": "kJii-Kw6OW3e"
      }
    },
    {
      "cell_type": "code",
      "source": [
        "def task8():\n",
        "    print(\"/--------------------------------------/\")\n",
        "    print(\"Task 8:\")\n",
        "    fruitsDict = {\n",
        "        \"Apple\": \"Red\",\n",
        "        \"Mandarin\": \"Orange\",\n",
        "        \"Pear\": \"Yellow\",\n",
        "        \"Plum\": \"Purple\",\n",
        "        \"Grape\": \"Green\",\n",
        "    }\n",
        "    print(\"Fruts:\")\n",
        "    for key, value in fruitsDict.items():\n",
        "        print(str(key) + \"'s color is \" + str(value))\n",
        "    print(\"/--------------------------------------/\")\n",
        "    print(\"Time complexity: O(n)\")\n",
        "    print(\"/--------------------------------------/\")\n",
        "    init()"
      ],
      "metadata": {
        "id": "VdAF0simKumB"
      },
      "execution_count": 20,
      "outputs": []
    },
    {
      "cell_type": "markdown",
      "source": [
        "Task 9:\n",
        "\n",
        "Write a function that accepts a string and outputs it in reverse order.\n",
        "\n",
        "---\n",
        "\n",
        "\n",
        "Time complexity: O(n)"
      ],
      "metadata": {
        "id": "YjGh5WLnOj3u"
      }
    },
    {
      "cell_type": "code",
      "source": [
        "def task9():\n",
        "    print(\"/--------------------------------------/\")\n",
        "    print(\"Task 9:\")\n",
        "    usersStr = input(\"Please, enter some string: \")\n",
        "    print(\"It's reversed version:\")\n",
        "    print(strReverse(usersStr))\n",
        "    print(\"/--------------------------------------/\")\n",
        "    print(\"Time complexity: O(n)\")\n",
        "    print(\"/--------------------------------------/\")\n",
        "    init()"
      ],
      "metadata": {
        "id": "T4cauNGYKwgN"
      },
      "execution_count": 21,
      "outputs": []
    },
    {
      "cell_type": "markdown",
      "source": [
        "Task 10:\n",
        "\n",
        "Create a list of 5 lines and replace the third element with a new line.\n",
        "\n",
        "---\n",
        "\n",
        "\n",
        "Time complexity: O(1)"
      ],
      "metadata": {
        "id": "Ua3Fa6DnOpP6"
      }
    },
    {
      "cell_type": "code",
      "source": [
        "def task10():\n",
        "    print(\"/--------------------------------------/\")\n",
        "    print(\"Task 10:\")\n",
        "    strList = [\"Vladislav\", \"Dmitriy\", \"Igor\", \"Maria\", \"Tatyana\"]\n",
        "    print(\"Our list of names: [\" + (\", \".join(str for str in strList)) + \"]\")\n",
        "\n",
        "    while True:\n",
        "        newStr = input(\n",
        "            \"Please, enter new name for the list, to replace \" + strList[2] + \": \"\n",
        "        )\n",
        "        if len(newStr) > 0:\n",
        "            strList[2] = newStr\n",
        "            break\n",
        "        else:\n",
        "            print(\"Incorect value, try again\")\n",
        "            continue\n",
        "\n",
        "    print(\"Current list of names: [\" + (\", \".join(str for str in strList)) + \"]\")\n",
        "    print(\"/--------------------------------------/\")\n",
        "    print(\"Time complexity: O(1)\")\n",
        "    print(\"/--------------------------------------/\")\n",
        "    init()"
      ],
      "metadata": {
        "id": "4cLyA6AUKyhL"
      },
      "execution_count": 22,
      "outputs": []
    },
    {
      "cell_type": "markdown",
      "source": [
        "Task 11:\n",
        "\n",
        "Create a tuple of 6 elements of different data types and display the type of each element.\n",
        "\n",
        "---\n",
        "\n",
        "\n",
        "Time complexity: O(n)"
      ],
      "metadata": {
        "id": "xHctNwnEOwUz"
      }
    },
    {
      "cell_type": "code",
      "source": [
        "def task11():\n",
        "    print(\"/--------------------------------------/\")\n",
        "    print(\"Task 11:\")\n",
        "    userTuple = (\"Dmitriy\", 29, True, -1.5, None, bytes(1))\n",
        "    print(\"Current tuple:\")\n",
        "    print(str(userTuple))\n",
        "\n",
        "    print(\"This tuple contains next items:\")\n",
        "    for item in userTuple:\n",
        "        print(str(item) + \"'s type is \" + str(type(item)))\n",
        "\n",
        "    print(\"/--------------------------------------/\")\n",
        "    print(\"Time complexity: O(n)\")\n",
        "    print(\"/--------------------------------------/\")\n",
        "    init()"
      ],
      "metadata": {
        "id": "izK4zwwaK0rd"
      },
      "execution_count": 23,
      "outputs": []
    },
    {
      "cell_type": "markdown",
      "source": [
        "Task 12:\n",
        "\n",
        "Write a program that accepts two numbers from the user and outputs their product.\n",
        "\n",
        "---\n",
        "\n",
        "\n",
        "Time complexity: O(1)"
      ],
      "metadata": {
        "id": "Nl5E8lwGO2qw"
      }
    },
    {
      "cell_type": "code",
      "source": [
        "def task12():\n",
        "    print(\"/--------------------------------------/\")\n",
        "    print(\"Task 12:\")\n",
        "    while True:\n",
        "        firstValue = input(\"Please, enter first integer value: \")\n",
        "        if firstValue.isdigit():\n",
        "            firstValue = int(firstValue)\n",
        "            break\n",
        "        else:\n",
        "            print(\"Incorect value. Try again.\")\n",
        "            continue\n",
        "    while True:\n",
        "        secondValue = input(\"Please, enter second integer value: \")\n",
        "        if secondValue.isdigit():\n",
        "            secondValue = int(secondValue)\n",
        "            break\n",
        "        else:\n",
        "            print(\"Incorect value. Try again.\")\n",
        "            continue\n",
        "    print(\n",
        "        \"The result of multiplying your numbers: \"\n",
        "        + str(multiplyValues(firstValue, secondValue))\n",
        "    )\n",
        "    print(\"/--------------------------------------/\")\n",
        "    print(\"Time complexity: O(1)\")\n",
        "    print(\"/--------------------------------------/\")\n",
        "    init()"
      ],
      "metadata": {
        "id": "ORg0-KYJK3Tw"
      },
      "execution_count": 24,
      "outputs": []
    },
    {
      "cell_type": "markdown",
      "source": [
        "Task 13:\n",
        "\n",
        "Create a dictionary containing information about the book (author, title, year of publication), and display this information on the screen.\n",
        "\n",
        "---\n",
        "\n",
        "\n",
        "Time complexity: O(n)"
      ],
      "metadata": {
        "id": "5JzTwrnwO9CQ"
      }
    },
    {
      "cell_type": "code",
      "source": [
        "def task13():\n",
        "    print(\"/--------------------------------------/\")\n",
        "    print(\"Task 13:\")\n",
        "    bookInfo = {\n",
        "        \"author\": \"Douglas Adams\",\n",
        "        \"title\": \"The Hitchhiker's Guide to the Galaxy\",\n",
        "        \"year\": 1979,\n",
        "    }\n",
        "    print(\"Book Info:\")\n",
        "    print(\"Author: \" + bookInfo[\"author\"])\n",
        "    print(\"Title: \" + str(bookInfo[\"title\"]))\n",
        "    print(\"Year of publication: \" + str(bookInfo[\"year\"]))\n",
        "    print(\"/--------------------------------------/\")\n",
        "    print(\"Time complexity: O(n)\")\n",
        "    print(\"/--------------------------------------/\")\n",
        "    init()"
      ],
      "metadata": {
        "id": "V_5KY5pAK5W5"
      },
      "execution_count": 25,
      "outputs": []
    },
    {
      "cell_type": "markdown",
      "source": [
        "Task 14:\n",
        "\n",
        "Create a set containing the names of 5 different cities, then delete one name and display the remaining ones.\n",
        "\n",
        "---\n",
        "\n",
        "\n",
        "Time complexity: O(1)"
      ],
      "metadata": {
        "id": "Zge7PnBZPC-x"
      }
    },
    {
      "cell_type": "code",
      "source": [
        "def task14():\n",
        "    print(\"/--------------------------------------/\")\n",
        "    print(\"Task 14:\")\n",
        "\n",
        "    citiesSet = set()\n",
        "    citiesSet.add(\"London\")\n",
        "    citiesSet.add(\"Tokio\")\n",
        "    citiesSet.add(\"Moscow\")\n",
        "    citiesSet.add(\"Minsk\")\n",
        "    citiesSet.add(\"Berlin\")\n",
        "    print(\"Your set: \" + str(citiesSet))\n",
        "    while True:\n",
        "        value = input(\"Please, enter city to remove from this set: \")\n",
        "        if value in citiesSet:\n",
        "            citiesSet.remove(value)\n",
        "            break\n",
        "        else:\n",
        "            print(\"Incorect value. Try again.\")\n",
        "            continue\n",
        "    print(\"Done! Your current set: \" + str(citiesSet))\n",
        "    print(\"/--------------------------------------/\")\n",
        "    print(\"Time complexity: O(1)\")\n",
        "    print(\"/--------------------------------------/\")\n",
        "    init()"
      ],
      "metadata": {
        "id": "otWt97hXK7mA"
      },
      "execution_count": 26,
      "outputs": []
    },
    {
      "cell_type": "markdown",
      "source": [
        "Task 15:\n",
        "\n",
        "Write a function that takes a list of numbers and returns the maximum of them.\n",
        "\n",
        "---\n",
        "\n",
        "\n",
        "Time complexity: O(n)"
      ],
      "metadata": {
        "id": "ifKCc85HPH2u"
      }
    },
    {
      "cell_type": "code",
      "source": [
        "def task15():\n",
        "    print(\"/--------------------------------------/\")\n",
        "    print(\"Task 15:\")\n",
        "    userList = inputNumList()\n",
        "    print(\"The biggest number in your list is: \" + str(maxNum(userList)))\n",
        "    print(\"/--------------------------------------/\")\n",
        "    print(\"Time complexity: O(n)\")\n",
        "    print(\"/--------------------------------------/\")\n",
        "    init()"
      ],
      "metadata": {
        "id": "2IKZqc6vK9Vk"
      },
      "execution_count": 27,
      "outputs": []
    },
    {
      "cell_type": "markdown",
      "source": [
        "Task 16:\n",
        "\n",
        "Create a list of numbers from 1 to 20, and then create a new list containing only the even numbers from the first list.\n",
        "\n",
        "---\n",
        "\n",
        "\n",
        "Time complexity: O(n)"
      ],
      "metadata": {
        "id": "iHVtdR-mPOxs"
      }
    },
    {
      "cell_type": "code",
      "source": [
        "def task16():\n",
        "    print(\"/--------------------------------------/\")\n",
        "    print(\"Task 16:\")\n",
        "    numList = []\n",
        "    number = 1\n",
        "    while number <= 20:\n",
        "        numList.append(number)\n",
        "        number += 1\n",
        "    evenNumList = []\n",
        "    for num in numList:\n",
        "        if (num % 2) == 0:\n",
        "            evenNumList.append(num)\n",
        "    print(\"Our list of numbers: [\" + (\", \".join(str(num) for num in numList)) + \"]\")\n",
        "    print(\n",
        "        \"Even numbers of that list: [\"\n",
        "        + (\", \".join(str(num) for num in evenNumList))\n",
        "        + \"]\"\n",
        "    )\n",
        "    print(\"/--------------------------------------/\")\n",
        "    print(\"Time complexity: O(n)\")\n",
        "    print(\"/--------------------------------------/\")\n",
        "    init()"
      ],
      "metadata": {
        "id": "jJi50RurK_nG"
      },
      "execution_count": 28,
      "outputs": []
    },
    {
      "cell_type": "markdown",
      "source": [
        "Task 17:\n",
        "\n",
        "Write a program that accepts a string from the user and outputs True if the string is a palindrome, and False otherwise.\n",
        "\n",
        "---\n",
        "\n",
        "\n",
        "Time complexity: O(n)"
      ],
      "metadata": {
        "id": "G4RP34MBPUPr"
      }
    },
    {
      "cell_type": "code",
      "source": [
        "def task17():\n",
        "    print(\"/--------------------------------------/\")\n",
        "    print(\"Task 17:\")\n",
        "    usersStr = input(\"Please, enter some string: \")\n",
        "    if isPalindrome(usersStr):\n",
        "        print(\"This string is a palindrome\")\n",
        "    else:\n",
        "        print(\"This string isn't a palindrome\")\n",
        "    print(\"/--------------------------------------/\")\n",
        "    print(\"Time complexity: O(n)\")\n",
        "    print(\"/--------------------------------------/\")\n",
        "    init()"
      ],
      "metadata": {
        "id": "9jhDvzpWLBLp"
      },
      "execution_count": 29,
      "outputs": []
    },
    {
      "cell_type": "markdown",
      "source": [
        "Task 18:\n",
        "\n",
        "Create a tuple containing 3 elements of different data types and decompress it into separate variables.\n",
        "\n",
        "---\n",
        "\n",
        "\n",
        "Time complexity: O(n)"
      ],
      "metadata": {
        "id": "OzXGo8z1PbEn"
      }
    },
    {
      "cell_type": "code",
      "source": [
        "def task18():\n",
        "    print(\"/--------------------------------------/\")\n",
        "    print(\"Task 18:\")\n",
        "    userTuple = (\"Dmitriy\", 29, True)\n",
        "    print(\"Current tuple:\")\n",
        "    print(str(userTuple))\n",
        "    first, second, third = userTuple\n",
        "    print(\"Elements of this tuple: \")\n",
        "    print(first)\n",
        "    print(second)\n",
        "    print(third)\n",
        "    print(\"/--------------------------------------/\")\n",
        "    print(\"Time complexity: O(n)\")\n",
        "    print(\"/--------------------------------------/\")\n",
        "    init()"
      ],
      "metadata": {
        "id": "9GfOSH_CLDWB"
      },
      "execution_count": 30,
      "outputs": []
    },
    {
      "cell_type": "markdown",
      "source": [
        "Task 19:\n",
        "\n",
        "Write a function that accepts a dictionary with information about a student (name, age, course) and outputs this information in formatted form.\n",
        "\n",
        "---\n",
        "\n",
        "\n",
        "Time complexity: O(n)"
      ],
      "metadata": {
        "id": "XGSGwQZQPe-W"
      }
    },
    {
      "cell_type": "code",
      "source": [
        "def task19():\n",
        "    print(\"/--------------------------------------/\")\n",
        "    print(\"Task 19:\")\n",
        "    studentInfo = {\"Name\": \"Dmitriy\", \"Age\": 29, \"Course\": 1}\n",
        "    print(\"Student Info:\")\n",
        "    formatDict(studentInfo)\n",
        "    print(\"/--------------------------------------/\")\n",
        "    print(\"Time complexity: O(n)\")\n",
        "    print(\"/--------------------------------------/\")\n",
        "    init()"
      ],
      "metadata": {
        "id": "ZujWxcigLFQ-"
      },
      "execution_count": 31,
      "outputs": []
    },
    {
      "cell_type": "markdown",
      "source": [
        "Task 20:\n",
        "\n",
        "Create a list and add 5 different items to it. Display the contents of the list on the screen.\n",
        "\n",
        "---\n",
        "\n",
        "\n",
        "Time complexity: O(n)"
      ],
      "metadata": {
        "id": "80yCD8zXPkE5"
      }
    },
    {
      "cell_type": "code",
      "source": [
        "def task20():\n",
        "    print(\"/--------------------------------------/\")\n",
        "    print(\"Task 20:\")\n",
        "    userList = []\n",
        "    while len(userList) < 4:\n",
        "        value = input(\"Please, enter some value to add to your list: \")\n",
        "        if len(value) > 0:\n",
        "            userList.append(value)\n",
        "        else:\n",
        "            print(\"Incorrect value. Try again.\")\n",
        "\n",
        "    print(\"Your list of items: [\" + (\", \".join(str(item) for item in userList)) + \"]\")\n",
        "    print(\"/--------------------------------------/\")\n",
        "    print(\"Time complexity: O(n)\")\n",
        "    print(\"/--------------------------------------/\")\n",
        "    init()"
      ],
      "metadata": {
        "id": "VzMzOSJqLHSY"
      },
      "execution_count": 38,
      "outputs": []
    },
    {
      "cell_type": "markdown",
      "source": [
        "Run this block to initialize this programm."
      ],
      "metadata": {
        "id": "kNPomjNfPoo-"
      }
    },
    {
      "cell_type": "code",
      "source": [
        "init()"
      ],
      "metadata": {
        "id": "vvqkf5t3LJAA"
      },
      "execution_count": null,
      "outputs": []
    }
  ]
}